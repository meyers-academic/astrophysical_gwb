{
 "cells": [
  {
   "cell_type": "code",
   "execution_count": 30,
   "id": "1ed17a0b",
   "metadata": {},
   "outputs": [],
   "source": [
    "# Imports\n",
    "import numpy as np\n",
    "import matplotlib\n",
    "import matplotlib.pyplot as plt\n",
    "import sys\n",
    "sys.path.append('../../modules/')\n",
    "import equations\n",
    "\n",
    "# Plot formatting\n",
    "matplotlib.rcParams.update(matplotlib.rcParamsDefault)\n",
    "fontsize = 9\n",
    "params = {\n",
    "   'axes.labelsize': fontsize,\n",
    "   'font.size': fontsize,\n",
    "   'legend.fontsize': 8,\n",
    "   'xtick.labelsize': fontsize,\n",
    "   'ytick.labelsize': fontsize,\n",
    "   'axes.titlesize':fontsize,\n",
    "   'lines.linewidth':1,  \n",
    "   'xtick.direction':'in',\n",
    "   'ytick.direction':'in',\n",
    "   'font.family':'Serif',\n",
    "   'font.serif':'Hoefler Text',\n",
    "   'axes.grid':True,\n",
    "   'figure.figsize': (6.75, 4),\n",
    "   'figure.dpi':250,\n",
    "   'mathtext.fontset':'cm'\n",
    "}\n",
    "\n",
    "for param in params.keys():\n",
    "    matplotlib.rcParams[param] = params[param]    "
   ]
  },
  {
   "cell_type": "code",
   "execution_count": 32,
   "id": "8640f1b2",
   "metadata": {},
   "outputs": [
    {
     "name": "stderr",
     "output_type": "stream",
     "text": [
      "/var/folders/ll/kr0d3dk97nscjzcx85rrjmz00000gn/T/ipykernel_14405/550672530.py:14: UserWarning: Matplotlib is currently using module://matplotlib_inline.backend_inline, which is a non-GUI backend, so cannot show the figure.\n",
      "  fig.show()\n"
     ]
    }
   ],
   "source": [
    "# Merger Rate vs. Redshift\n",
    "# Parameters given by Callister 2020, Figure 1\n",
    "zs = np.linspace(0, 10, 1000)\n",
    "Rs = []\n",
    "\n",
    "for i in zs:\n",
    "    Rs.append(equations.R(1.9, 3.4, i, 2.4, 28.3))\n",
    "    \n",
    "fig, ax = plt.subplots()\n",
    "ax.set_title(r'Merger Rate vs. Redshift')\n",
    "ax.set_xlabel(r'Redshift $z$')\n",
    "ax.set_ylabel(r'Merger Rate $\\dot{N}(z)$')\n",
    "ax.plot(zs, Rs, color='#000000')\n",
    "fig.show()"
   ]
  },
  {
   "cell_type": "code",
   "execution_count": 33,
   "id": "75fc3743",
   "metadata": {},
   "outputs": [
    {
     "name": "stderr",
     "output_type": "stream",
     "text": [
      "/var/folders/ll/kr0d3dk97nscjzcx85rrjmz00000gn/T/ipykernel_14405/1197146730.py:23: UserWarning: Matplotlib is currently using module://matplotlib_inline.backend_inline, which is a non-GUI backend, so cannot show the figure.\n",
      "  fig.show()\n"
     ]
    }
   ],
   "source": [
    "# Merger Rate vs. Redshift for Varying Values of Alpha\n",
    "# alphas[2] given by Callister 2020, Figure 1\n",
    "zs = np.linspace(0, 10, 1000)\n",
    "changed_alpha_Rs = []\n",
    "\n",
    "alphas = [1.7, 1.8, 1.9, 2.0, 2.1]\n",
    "for alpha in alphas:\n",
    "    Rs = []\n",
    "    for z in zs:\n",
    "        Rs.append(equations.R(alpha, 3.4, z, 2.4, 28.3))\n",
    "    changed_alpha_Rs.append(Rs)\n",
    "\n",
    "fig, ax = plt.subplots()\n",
    "ax.set_title(r'Merger Rate vs. Redshift at Varying Values of $\\alpha$')\n",
    "ax.set_xlabel(r'Redshift $z$')\n",
    "ax.set_ylabel(r'Merger Rate $\\dot{N}(z)$')\n",
    "ax.plot(zs, changed_alpha_Rs[0], color='#fccaca', label=r'$\\alpha=1.7$')\n",
    "ax.plot(zs, changed_alpha_Rs[1], color='#fc6f6f', label=r'$\\alpha=1.8$')\n",
    "ax.plot(zs, changed_alpha_Rs[2], color='#ff0000', label=r'$\\alpha=1.9$')\n",
    "ax.plot(zs, changed_alpha_Rs[3], color='#ab0202', label=r'$\\alpha=2.0$')\n",
    "ax.plot(zs, changed_alpha_Rs[4], color='#470101', label=r'$\\alpha=2.1$')\n",
    "ax.legend()\n",
    "fig.show()"
   ]
  },
  {
   "cell_type": "code",
   "execution_count": 34,
   "id": "2f0c07f8",
   "metadata": {},
   "outputs": [
    {
     "name": "stderr",
     "output_type": "stream",
     "text": [
      "/var/folders/ll/kr0d3dk97nscjzcx85rrjmz00000gn/T/ipykernel_14405/3394174568.py:23: UserWarning: Matplotlib is currently using module://matplotlib_inline.backend_inline, which is a non-GUI backend, so cannot show the figure.\n",
      "  fig.show()\n"
     ]
    }
   ],
   "source": [
    "# Merger Rate vs. Redshift for Varying Values of Beta\n",
    "# betas[2] given by Callister 2020, Figure 1\n",
    "zs = np.linspace(0, 10, 1000)\n",
    "changed_beta_Rs = []\n",
    "\n",
    "betas = [1.2, 2.3, 3.4, 4.5, 5.6]\n",
    "for beta in betas:\n",
    "    Rs = []\n",
    "    for z in zs:\n",
    "        Rs.append(equations.R(1.9, beta, z, 2.4, 28.3))\n",
    "    changed_beta_Rs.append(Rs)\n",
    "\n",
    "fig, ax = plt.subplots()\n",
    "ax.set_title(r'Merger Rate vs. Redshift at Varying Values of $\\beta$')\n",
    "ax.set_xlabel(r'Redshift $z$')\n",
    "ax.set_ylabel(r'Merger Rate $\\dot{N}(z)$')\n",
    "ax.plot(zs, changed_beta_Rs[0], color='#99d3ff', label=r'$\\beta=3.2$')\n",
    "ax.plot(zs, changed_beta_Rs[1], color='#4fb3ff', label=r'$\\beta=3.3$')\n",
    "ax.plot(zs, changed_beta_Rs[2], color='#0390fc', label=r'$\\beta=3.4$')\n",
    "ax.plot(zs, changed_beta_Rs[3], color='#0267b5', label=r'$\\beta=3.5$')\n",
    "ax.plot(zs, changed_beta_Rs[4], color='#013963', label=r'$\\beta=3.6$')\n",
    "ax.legend()\n",
    "fig.show()"
   ]
  },
  {
   "cell_type": "code",
   "execution_count": 35,
   "id": "f199b0bb",
   "metadata": {},
   "outputs": [
    {
     "name": "stderr",
     "output_type": "stream",
     "text": [
      "/var/folders/ll/kr0d3dk97nscjzcx85rrjmz00000gn/T/ipykernel_14405/623380740.py:23: UserWarning: Matplotlib is currently using module://matplotlib_inline.backend_inline, which is a non-GUI backend, so cannot show the figure.\n",
      "  fig.show()\n"
     ]
    }
   ],
   "source": [
    "# Merger Rate vs. Redshift for Varying Values of z_p\n",
    "# zps[2] given by Callister 2020, Figure 1\n",
    "zs = np.linspace(0, 10, 1000)\n",
    "changed_zp_Rs = []\n",
    "\n",
    "zps = [2.2, 2.3, 2.4, 2.5, 2.6]\n",
    "for zp in zps:\n",
    "    Rs = []\n",
    "    for z in zs:\n",
    "        Rs.append(equations.R(1.9, 3.4, z, zp, 28.3))\n",
    "    changed_zp_Rs.append(Rs)\n",
    "\n",
    "fig, ax = plt.subplots()\n",
    "ax.set_title(r'Merger Rate vs. Redshift at Varying Values of $z_p$')\n",
    "ax.set_xlabel(r'Redshift $z$')\n",
    "ax.set_ylabel(r'Merger Rate $\\dot{N}(z)$')\n",
    "ax.plot(zs, changed_zp_Rs[0], color='#dbabff', label=r'$z_p=2.2$')\n",
    "ax.plot(zs, changed_zp_Rs[1], color='#b759ff', label=r'$z_p=2.3$')\n",
    "ax.plot(zs, changed_zp_Rs[2], color='#9305ff', label=r'$z_p=2.4$')\n",
    "ax.plot(zs, changed_zp_Rs[3], color='#6c02bd', label=r'$z_p=2.5$')\n",
    "ax.plot(zs, changed_zp_Rs[4], color='#420075', label=r'$z_p=2.6$')\n",
    "ax.legend()\n",
    "fig.show()"
   ]
  },
  {
   "cell_type": "code",
   "execution_count": 36,
   "id": "1750e46f",
   "metadata": {},
   "outputs": [
    {
     "name": "stderr",
     "output_type": "stream",
     "text": [
      "/var/folders/ll/kr0d3dk97nscjzcx85rrjmz00000gn/T/ipykernel_14405/4124437343.py:23: UserWarning: Matplotlib is currently using module://matplotlib_inline.backend_inline, which is a non-GUI backend, so cannot show the figure.\n",
      "  fig.show()\n"
     ]
    }
   ],
   "source": [
    "# Merger Rate vs. Redshift for Varying Values of R0\n",
    "# R0s[0], R0s[2], and R0s[4] given by Abbott et al. 2022 PP model of BBH merger rate\n",
    "zs = np.linspace(0, 10, 1000)\n",
    "changed_R0_Rs = []\n",
    "\n",
    "R0s = [19.2, 23.75, 28.3, 35.25, 42.2]\n",
    "for R0 in R0s:\n",
    "    Rs = []\n",
    "    for z in zs:\n",
    "        Rs.append(equations.R(1.9, 3.4, z, 2.4, R0))\n",
    "    changed_R0_Rs.append(Rs)\n",
    "\n",
    "fig, ax = plt.subplots()\n",
    "ax.set_title(r'Merger Rate vs. Redshift at Varying Values of $R_0$')\n",
    "ax.set_xlabel(r'Redshift $z$')\n",
    "ax.set_ylabel(r'Merger Rate $\\dot{N}(z)$')\n",
    "ax.plot(zs, changed_R0_Rs[0], color='#c2ffcd', label=r'$R_0=19.2$')\n",
    "ax.plot(zs, changed_R0_Rs[1], color='#66ff82', label=r'$R_0=23.75$')\n",
    "ax.plot(zs, changed_R0_Rs[2], color='#03fc30', label=r'$R_0=28.3$')\n",
    "ax.plot(zs, changed_R0_Rs[3], color='#02b523', label=r'$R_0=35.25$')\n",
    "ax.plot(zs, changed_R0_Rs[4], color='#006b14', label=r'$R_0=42.2$')\n",
    "ax.legend()\n",
    "fig.show()"
   ]
  },
  {
   "cell_type": "code",
   "execution_count": 37,
   "id": "c6c678c4",
   "metadata": {
    "scrolled": false
   },
   "outputs": [],
   "source": [
    "# Merger Rate vs. Redshift Showing Range of Merger Rates\n",
    "alphas = [1.7, 1.8, 1.9, 2.0, 2.1]\n",
    "betas = [1.2, 2.3, 3.4, 4.5, 5.6]\n",
    "zps = [2.2, 2.3, 2.4, 2.5, 2.6]\n",
    "R0s = [19.2, 23.75, 28.3, 35.25, 42.2]\n",
    "\n",
    "fig, ax = plt.subplots()\n",
    "ax.set_title(r'Merger Rate vs. Redshift at Varying Values of $\\alpha$, $\\beta$, $z_p$, and $R_0$')\n",
    "ax.set_xlabel(r'Redshift $z$')\n",
    "ax.set_ylabel(r'Merger Rate $\\dot{N}(z)$')\n",
    "\n",
    "for alpha in alphas:\n",
    "    for beta in betas:\n",
    "        for zp in zps:\n",
    "            for R0 in R0s:\n",
    "                Rs = []\n",
    "                for z in zs:\n",
    "                    Rs.append(equations.R(alpha, beta, z, zp, R0))\n",
    "                ax.plot(zs, Rs, color='#000000', linewidth=0.5, alpha=0.1)\n",
    "                if(alpha==1.9 and beta==3.4 and zp==2.4 and R0==28.3):\n",
    "                    ax.plot(zs, Rs, color='red', linewidth=1.0, alpha=1)"
   ]
  }
 ],
 "metadata": {
  "kernelspec": {
   "display_name": "Python (igwn-py39-lw)",
   "language": "python",
   "name": "igwn-py39-lw"
  },
  "language_info": {
   "codemirror_mode": {
    "name": "ipython",
    "version": 3
   },
   "file_extension": ".py",
   "mimetype": "text/x-python",
   "name": "python",
   "nbconvert_exporter": "python",
   "pygments_lexer": "ipython3",
   "version": "3.9.16"
  }
 },
 "nbformat": 4,
 "nbformat_minor": 5
}
