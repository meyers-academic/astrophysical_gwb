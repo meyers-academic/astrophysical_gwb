{
 "cells": [
  {
   "cell_type": "code",
   "execution_count": 1,
   "id": "c12f6b8d",
   "metadata": {},
   "outputs": [],
   "source": [
    "# Imports\n",
    "%load_ext autoreload\n",
    "%autoreload 2\n",
    "\n",
    "import matplotlib \n",
    "import matplotlib.pyplot as plt\n",
    "import numpy as np\n",
    "import scipy\n",
    "from tqdm import tqdm\n",
    "import sys\n",
    "\n",
    "import bilby\n",
    "\n",
    "# Add module\n",
    "sys.path.append('../../modules')\n",
    "from compute_omega import sample_dict_compute_injected_omega\n",
    "from gwBackground_module import *\n",
    "\n",
    "from constants import *\n",
    "import equations\n",
    "import redshiftPrior"
   ]
  },
  {
   "cell_type": "code",
   "execution_count": 2,
   "id": "b2458dea",
   "metadata": {},
   "outputs": [],
   "source": [
    "# Plot formatting\n",
    "matplotlib.rcParams.update(matplotlib.rcParamsDefault)\n",
    "fontsize = 24\n",
    "params = {\n",
    "   'axes.labelsize': fontsize,\n",
    "   'font.size': fontsize,\n",
    "   'legend.fontsize': 8,\n",
    "   'xtick.labelsize': fontsize,\n",
    "   'ytick.labelsize': fontsize,\n",
    "   'axes.titlesize':fontsize,\n",
    "   'lines.linewidth':1,  \n",
    "   'xtick.direction':'in',\n",
    "   'ytick.direction':'in',\n",
    "   'font.family':'Serif',\n",
    "   'font.serif':'Hoefler Text',\n",
    "   'axes.grid':True,\n",
    "   'figure.figsize': (6.75, 4),\n",
    "   'figure.dpi':250,\n",
    "   'mathtext.fontset':'cm'\n",
    "}\n",
    "\n",
    "for param in params.keys():\n",
    "    matplotlib.rcParams[param] = params[param]  "
   ]
  },
  {
   "cell_type": "code",
   "execution_count": 3,
   "id": "69df80ca-2665-4e14-8093-bb2901754fc4",
   "metadata": {},
   "outputs": [],
   "source": [
    "def calculate_total_rate(priors):\n",
    "    zs, p_dz = priors['redshift']._get_redshift_arrays()\n",
    "    p_dz_centers = (p_dz[1:] + p_dz[:-1])/2.\n",
    "    total_sum = np.sum(np.diff(zs) * p_dz_centers)\n",
    "    return total_sum\n",
    "\n",
    "def calculate_expected_num_events(T_obs, priors):\n",
    "    '''\n",
    "    T_obs : float\n",
    "        observation time (in seconds)\n",
    "    priors: bilby.core.prior.PriorDict\n",
    "        bilby prior dictionary\n",
    "\n",
    "    Returns:\n",
    "    --------\n",
    "    N : float\n",
    "        Expected number of events in that time\n",
    "    '''\n",
    "    rate = calculate_total_rate(priors)\n",
    "    return T_obs * rate\n",
    "\n",
    "def get_weights(dEdfs, reference_priors, target_priors, zs, m1s, qs):\n",
    "    \"\"\"\n",
    "    get weights that we use to reweight our spectrum\n",
    "    \n",
    "    dEdfs : array-like\n",
    "        array of h+^2 + hx^2 for the reference injectionset\n",
    "    reference_priors : bilby.core.prior.PriorDict\n",
    "        bilby prior dictionary for the reference priors\n",
    "    target_priors : bilby.core.prior.PriorDict\n",
    "        bilby prior dictionary for the target priors we want to use to calculate Omega_gw\n",
    "    zs : array-like\n",
    "        redshift of each injection\n",
    "    m1s : array-like\n",
    "        mass1s of each injection\n",
    "    m2s : array-like\n",
    "        mass2s of each injection\n",
    "    qs : mass ratios of each injection\n",
    "    \n",
    "    \"\"\"\n",
    "    weights = []\n",
    "    for i in range(N_inj):\n",
    "        z = zs[i]\n",
    "        m1 = m1s[i]\n",
    "        # m2 = m2s[i]\n",
    "        q = qs[i]\n",
    "        # Mtot = Mtots[i]\n",
    "        # M = Ms[i]\n",
    "\n",
    "        # Probability of drawing {z, m1, m2}\n",
    "        p_z = target_priors['redshift'].prob(z)\n",
    "        p_m1 = target_priors['mass_1'].prob(m1)\n",
    "        p_q = target_priors['mass_ratio'].prob(q)\n",
    "\n",
    "        pdraw_z = reference_priors['redshift'].prob(z)\n",
    "        pdraw_m1 = reference_priors['mass_1'].prob(m1)\n",
    "        pdraw_q = reference_priors['mass_ratio'].prob(q)\n",
    "\n",
    "        # # Weight calculation\n",
    "        # r = equations.R_SI(alpha, beta, z, zp, R0)\n",
    "        # h = equations.Hubble_rate_SI(z, H0, omegaR, omegaM, omegak, omegaL)\n",
    "        h0 = equations.Hubble_rate_SI(0, H0, omegaR, omegaM, omegak, omegaL)\n",
    "\n",
    "        wi = (p_z/pdraw_z) * (p_m1/pdraw_m1) * (p_q/pdraw_q)\n",
    "        weights.append(wi)\n",
    "    return np.array(weights)"
   ]
  },
  {
   "cell_type": "markdown",
   "id": "dfaf1071-4658-46be-8bd6-f38b7417512b",
   "metadata": {},
   "source": [
    "# Define some parameters"
   ]
  },
  {
   "cell_type": "code",
   "execution_count": 4,
   "id": "652e4cb4",
   "metadata": {},
   "outputs": [],
   "source": [
    "# Constants\n",
    "# Mass Parameters\n",
    "BBH_min = 5 # minimum BBH mass\n",
    "BBH_max = 44 # maximum BBH mass\n",
    "\n",
    "# Frequency Parameters\n",
    "fmax = 3000\n",
    "fref = 25\n",
    "\n",
    "# Data Simulation Parameters\n",
    "T_obs = 0.1 # observation time (in yrs)\n",
    "duration = T_obs*60*60*24*365.25 # duration of each segment of data (in s)\n",
    "N_segs = 1 # number of data segments to generate\n",
    "sampling_frequency = 1024 # sampling rate (in Hz)\n",
    "num_iterations = 12 # number of iterations to average Omega(f) over\n",
    "\n",
    "N_inj = 100_000 # number of injections that we will then reweight"
   ]
  },
  {
   "cell_type": "markdown",
   "id": "ce6882c4-f0f5-46c3-876c-c163eaf75938",
   "metadata": {},
   "source": [
    "# Set up prior dictionary for $\\Omega_{gw}(f)$\n",
    "\n",
    "This is the prior dictionary that we want to calculate $Omega_{gw}(f)$ for eventually"
   ]
  },
  {
   "cell_type": "markdown",
   "id": "773e2783",
   "metadata": {},
   "source": []
  },
  {
   "cell_type": "code",
   "execution_count": 5,
   "id": "ad26f8b2",
   "metadata": {},
   "outputs": [
    {
     "name": "stderr",
     "output_type": "stream",
     "text": [
      "11:34 bilby INFO    : Using aligned spin prior\n",
      "11:34 bilby INFO    : No prior given, using default BBH priors in /Users/patrickmeyers/opt/anaconda3/envs/gw_general/lib/python3.9/site-packages/bilby/gw/prior_files/aligned_spins_bbh.prior.\n"
     ]
    }
   ],
   "source": [
    "# Prior dictionary for priors we *want* to calculate omega_gw for\n",
    "target_priors = bilby.gw.prior.BBHPriorDict(aligned_spin=True)\n",
    "target_priors['mass_1'] = bilby.core.prior.PowerLaw(alpha=-2.3, minimum=BBH_min, maximum=BBH_max)\n",
    "target_priors['mass_ratio'] = bilby.core.prior.PowerLaw(alpha=1.5, minimum=0, maximum=1)\n",
    "target_priors['theta_jn'] = bilby.core.prior.Uniform(minimum=0, maximum=2*np.pi, name='theta_jn')\n",
    "target_priors['chi_1'] = 0\n",
    "target_priors['chi_2'] = 0\n",
    "target_priors['redshift'] = redshiftPrior.BrokenPowerLawRedshiftPrior(R0=R0, alpha=alpha, beta=beta, zp=zp, minimum=0, maximum=z_max, name='redshift')\n",
    "target_priors['geocent_time'] = bilby.core.prior.Uniform(minimum=0, maximum=T_obs, name='geocent_time')\n",
    "del target_priors['luminosity_distance']\n",
    "del target_priors['chirp_mass']"
   ]
  },
  {
   "cell_type": "markdown",
   "id": "290de60c-d26d-4875-a87a-416d909b8c3c",
   "metadata": {},
   "source": [
    "# Set up reference prior dictionary\n",
    "\n",
    "Here we set up a prior dictionary with a reference set of parameters. We'll take injections from here, and then reweight them to the prior dictionary above."
   ]
  },
  {
   "cell_type": "code",
   "execution_count": 6,
   "id": "9f692e13-3ed0-4168-a4a9-ce1bbf4c5cdf",
   "metadata": {},
   "outputs": [
    {
     "name": "stderr",
     "output_type": "stream",
     "text": [
      "11:34 bilby INFO    : Using aligned spin prior\n",
      "11:34 bilby INFO    : No prior given, using default BBH priors in /Users/patrickmeyers/opt/anaconda3/envs/gw_general/lib/python3.9/site-packages/bilby/gw/prior_files/aligned_spins_bbh.prior.\n"
     ]
    }
   ],
   "source": [
    "# \"reference\" prior dictionary\n",
    "ref_priors = bilby.gw.prior.BBHPriorDict(aligned_spin=True)\n",
    "# uniform_priors['mass_1'] = bilby.core.prior.PowerLaw(alpha=-2.3, minimum=BBH_min, maximum=BBH_max)\n",
    "ref_priors['mass_1'] = bilby.core.prior.Uniform(minimum=BBH_min, maximum=BBH_max)\n",
    "ref_priors['mass_ratio'] = bilby.core.prior.Uniform(minimum=0, maximum=1)\n",
    "ref_priors['theta_jn'] = bilby.core.prior.Uniform(minimum=0, maximum=2*np.pi, name='theta_jn')\n",
    "ref_priors['chi_1'] = 0\n",
    "ref_priors['chi_2'] = 0\n",
    "ref_priors['redshift'] = redshiftPrior.BrokenPowerLawRedshiftPrior(R0=R0, alpha=alpha, beta=beta, zp=zp,\n",
    "                                                                       minimum=0, maximum=z_max, name='redshift')\n",
    "ref_priors['geocent_time'] = bilby.core.prior.Uniform(minimum=0, maximum=T_obs, name='geocent_time')\n",
    "del ref_priors['luminosity_distance']\n",
    "del ref_priors['chirp_mass']"
   ]
  },
  {
   "cell_type": "markdown",
   "id": "56af5b98-0943-40f2-a943-afdd2b858fad",
   "metadata": {},
   "source": [
    "# Calculate $h_+^2 + h_\\times^2$ for each of our reference injections"
   ]
  },
  {
   "cell_type": "code",
   "execution_count": 7,
   "id": "8cac31f1-7785-49bb-bc9a-31a86f7900b2",
   "metadata": {},
   "outputs": [
    {
     "name": "stderr",
     "output_type": "stream",
     "text": [
      "11:34 bilby INFO    : Waveform generator initiated with\n",
      "  frequency_domain_source_model: bilby.gw.source.lal_binary_black_hole\n",
      "  time_domain_source_model: None\n",
      "  parameter_conversion: bilby.gw.conversion.convert_to_lal_binary_black_hole_parameters\n",
      "100%|███████████████████████████████████████████████| 100000/100000 [00:39<00:00, 2511.58it/s]\n"
     ]
    }
   ],
   "source": [
    "# Draw injections\n",
    "injections = ref_priors.sample(N_inj)\n",
    "\n",
    "m1s = injections['mass_1']\n",
    "qs = injections['mass_ratio']\n",
    "zs = injections['redshift']\n",
    "\n",
    "# Set up waveform generator\n",
    "# Waveform generator parameters\n",
    "sampling_frequency=sampling_frequency\n",
    "approximant='IMRPhenomD'\n",
    "\n",
    "# Initialize waveform generator\n",
    "waveform_generator = bilby.gw.WaveformGenerator(\n",
    "    duration=2,\n",
    "    sampling_frequency=sampling_frequency,\n",
    "    frequency_domain_source_model=bilby.gw.source.lal_binary_black_hole,\n",
    "    parameter_conversion=bilby.gw.conversion.convert_to_lal_binary_black_hole_parameters,\n",
    "    waveform_arguments={\n",
    "        \"waveform_approximant\": 'IMRPhenomD',\n",
    "        \"reference_frequency\": 50,\n",
    "        \"minimum_frequency\": 1\n",
    "    }\n",
    ")\n",
    "\n",
    "# Calculate non-weighted dEdf from uniform distributions\n",
    "freqs_W = waveform_generator.frequency_array\n",
    "OmegaGW_W = np.zeros(len(freqs_W))\n",
    "\n",
    "dEdfs = []\n",
    "for i in tqdm(range(N_inj)):\n",
    "    inj_params = {}\n",
    "    # Generate the individual parameters dictionary for each injection\n",
    "    for k in injections.keys():\n",
    "        if k == 'signal_type':\n",
    "            continue\n",
    "        try:\n",
    "            inj_params[k] = injections[k]['content'][i]\n",
    "        except:\n",
    "            inj_params[k] = injections[k][i]\n",
    "\n",
    "    # Get frequency domain waveform\n",
    "    polarizations = waveform_generator.frequency_domain_strain(inj_params)\n",
    "\n",
    "    # Final PSD of the injection\n",
    "    dEdf = np.abs(polarizations['plus']) ** 2 + np.abs(polarizations['cross']) ** 2\n",
    "    dEdfs.append(dEdf)\n"
   ]
  },
  {
   "cell_type": "code",
   "execution_count": 8,
   "id": "85ebd488-f448-4449-927c-f72e1db5fafd",
   "metadata": {},
   "outputs": [],
   "source": [
    "dEdfs = np.array(dEdfs)"
   ]
  },
  {
   "cell_type": "markdown",
   "id": "149e85f0-02bb-475c-b760-0bfcf00a650a",
   "metadata": {},
   "source": [
    "# Calculate weights between reference prior dictionary and \"new\" prior dictionary"
   ]
  },
  {
   "cell_type": "code",
   "execution_count": 9,
   "id": "858c9abe-ab8f-4117-ae8f-f307fe229b5a",
   "metadata": {},
   "outputs": [],
   "source": [
    "weights = get_weights(dEdfs, ref_priors, target_priors, zs, m1s, qs)\n",
    "h0 = equations.Hubble_rate_SI(0, H0, omegaR, omegaM, omegak, omegaL)"
   ]
  },
  {
   "cell_type": "markdown",
   "id": "ae862ee9-2bf1-4100-80ac-d4dcd8e367b4",
   "metadata": {},
   "source": [
    "## Final calculation\n",
    "\n",
    "$$\\Omega_{gw}(f) = \\mathcal R\\frac{2\\pi^2 f^3}{3 H_0^2} \\frac{1}{N_{inj}}\\sum_{i=1}^{N_{inj}} w_i \\left[h_{+,i}(f)^2 + h_{\\times,i}(f)^2\\right]$$\n",
    "\n",
    "where $\\mathcal R$ is the total rate of events per second in the universe calculated for the target prior. N_inj is the total number of events for the reference set of injections.\n",
    "\n",
    "Note that $N_{inj} / \\mathcal R = T_{obs}$, so this reduces to what we usually see. "
   ]
  },
  {
   "cell_type": "code",
   "execution_count": 10,
   "id": "f82a4486-dc72-4426-a9c6-24162d255b76",
   "metadata": {},
   "outputs": [],
   "source": [
    "# weighted sum of h+^2 + hx^2 over vents\n",
    "dEdf_sum = dEdfs.T @ weights\n",
    "\n",
    "# total rate for the priors we want Omega_{gw} for\n",
    "total_rate = calculate_total_rate(target_priors).value / (86400 * 365.25) # in units of [events s^{-1}]\n",
    "\n",
    "\n",
    "OmegaGW_W = 2 * np.pi**2 * freqs_W**3 * dEdf_sum / (3 * h0**2)\n",
    "Tobs_seconds = T_obs * 86400 * 365.25  # years to seconds\n",
    "\n",
    "# replace [1 / Tobs] by [rate / N_inj]\n",
    "OmegaGW_W *= 2 * total_rate / N_inj"
   ]
  },
  {
   "cell_type": "markdown",
   "id": "a6bb3c4d-0584-40ed-8517-d5198e46a041",
   "metadata": {},
   "source": [
    "# Now for a different target prior\n",
    "\n",
    "This is where we see the reason why we're doing this. Now, we can change the target prior, and very easily reweight the pre-calculated reference injections. So we only calculate the reference injections once, and we can now easily calculate the GWB for any prior dictionary we want to use. \n",
    "\n",
    "Let's just change R0 to be three times as large and see what happens."
   ]
  },
  {
   "cell_type": "code",
   "execution_count": 11,
   "id": "e1de7b4c-f374-4f5f-a879-eb9376899d4a",
   "metadata": {},
   "outputs": [
    {
     "name": "stderr",
     "output_type": "stream",
     "text": [
      "11:35 bilby INFO    : Using aligned spin prior\n",
      "11:35 bilby INFO    : No prior given, using default BBH priors in /Users/patrickmeyers/opt/anaconda3/envs/gw_general/lib/python3.9/site-packages/bilby/gw/prior_files/aligned_spins_bbh.prior.\n"
     ]
    }
   ],
   "source": [
    "# Prior dictionary for priors we *want* to calculate omega_gw for\n",
    "target_priors = bilby.gw.prior.BBHPriorDict(aligned_spin=True)\n",
    "target_priors['mass_1'] = bilby.core.prior.PowerLaw(alpha=-2.3, minimum=BBH_min, maximum=BBH_max)\n",
    "target_priors['mass_ratio'] = bilby.core.prior.PowerLaw(alpha=1.5, minimum=0, maximum=1)\n",
    "target_priors['theta_jn'] = bilby.core.prior.Uniform(minimum=0, maximum=2*np.pi, name='theta_jn')\n",
    "target_priors['chi_1'] = 0\n",
    "target_priors['chi_2'] = 0\n",
    "target_priors['redshift'] = redshiftPrior.BrokenPowerLawRedshiftPrior(R0=R0*3, alpha=alpha, beta=beta, zp=zp, minimum=0, maximum=z_max, name='redshift')\n",
    "target_priors['geocent_time'] = bilby.core.prior.Uniform(minimum=0, maximum=T_obs, name='geocent_time')\n",
    "del target_priors['luminosity_distance']\n",
    "del target_priors['chirp_mass']\n",
    "\n",
    "weights = get_weights(dEdfs, ref_priors, target_priors, zs, m1s, qs)\n",
    "h0 = equations.Hubble_rate_SI(0, H0, omegaR, omegaM, omegak, omegaL)\n",
    "\n",
    "# weighted sum of h+^2 + hx^2 over vents\n",
    "dEdf_sum = dEdfs.T @ weights\n",
    "\n",
    "# total rate for the priors we want Omega_{gw} for\n",
    "total_rate = calculate_total_rate(target_priors).value / (86400 * 365.25) # in units of [events s^{-1}]\n",
    "\n",
    "\n",
    "OmegaGW_second_target_priors = 2 * np.pi**2 * freqs_W**3 * dEdf_sum / (3 * h0**2)\n",
    "Tobs_seconds = T_obs * 86400 * 365.25  # years to seconds\n",
    "\n",
    "# replace [1 / Tobs] by [rate / N_inj]\n",
    "OmegaGW_second_target_priors *= 2 * total_rate / N_inj"
   ]
  },
  {
   "cell_type": "code",
   "execution_count": null,
   "id": "97a80a26-8d18-4b0d-93b5-326ebd02dc7b",
   "metadata": {},
   "outputs": [],
   "source": []
  },
  {
   "cell_type": "code",
   "execution_count": null,
   "id": "87e085cf-65fe-4a08-93e6-dd05ec0cecec",
   "metadata": {},
   "outputs": [],
   "source": []
  },
  {
   "cell_type": "code",
   "execution_count": 13,
   "id": "f259902c",
   "metadata": {
    "tags": []
   },
   "outputs": [
    {
     "name": "stderr",
     "output_type": "stream",
     "text": [
      "2024-01-16 11:35:58.995 | INFO     | compute_omega:draw_injections:65 - We are averaging over 7213.907347907602 1 / yr waveforms for 0.01 years\n",
      "11:35 bilby INFO    : Waveform generator initiated with\n",
      "  frequency_domain_source_model: bilby.gw.source.lal_binary_black_hole\n",
      "  time_domain_source_model: None\n",
      "  parameter_conversion: bilby.gw.conversion.convert_to_lal_binary_black_hole_parameters\n",
      "2024-01-16 11:35:59.233 | INFO     | compute_omega:sample_dict_compute_injected_omega:106 - Compute the total injected Omega for 7369 injections\n",
      "100%|███████████████████████████████████████████████████| 7369/7369 [00:03<00:00, 2199.75it/s]\n"
     ]
    }
   ],
   "source": [
    "fs = []\n",
    "omgws = []\n",
    "for ii in range(1):\n",
    "    freqs_psd, omega_gw_freq, injections = sample_dict_compute_injected_omega(target_priors, Tobs=T_obs/10, duration=2,\n",
    "                                                                              f_ref=25, sampling_frequency=sampling_frequency,\n",
    "                                       approximant='IMRPhenomD')\n",
    "    fs.append(freqs_psd)\n",
    "    omgws.append(omega_gw_freq)"
   ]
  },
  {
   "cell_type": "code",
   "execution_count": 18,
   "id": "3a8e5b63",
   "metadata": {},
   "outputs": [
    {
     "data": {
      "image/png": "[encoded data removed]",
      "text/plain": [
       "<Figure size 864x432 with 1 Axes>"
      ]
     },
     "metadata": {
      "needs_background": "light"
     },
     "output_type": "display_data"
    }
   ],
   "source": [
    "%matplotlib inline\n",
    "fig, ax = plt.subplots(figsize=(12, 6))\n",
    "ax.loglog(freqs_W, OmegaGW_W, color='#bc85ff', label='weighted', lw=3)\n",
    "ax.loglog(freqs_W, OmegaGW_second_target_priors, color='r', label='weighted $3R_0$', lw=3)\n",
    "for ii in range(1):\n",
    "    ax.loglog(fs[ii], omgws[ii], color='#000000', alpha=1, label='direct for $3R_0$')\n",
    "ax.set_title(r'GW Energy Density Spectrum (Weighted Method)')\n",
    "ax.set_xlabel(r'Frequency (Hz)')\n",
    "ax.set_ylabel(r'$\\Omega_{GW}(f)$')\n",
    "ax.set_xlim(10, 4096)\n",
    "ax.legend()\n",
    "plt.show()"
   ]
  }
 ],
 "metadata": {
  "kernelspec": {
   "display_name": "Python [conda env:gw_general] *",
   "language": "python",
   "name": "conda-env-gw_general-py"
  },
  "language_info": {
   "codemirror_mode": {
    "name": "ipython",
    "version": 3
   },
   "file_extension": ".py",
   "mimetype": "text/x-python",
   "name": "python",
   "nbconvert_exporter": "python",
   "pygments_lexer": "ipython3",
   "version": "3.9.7"
  }
 },
 "nbformat": 4,
 "nbformat_minor": 5
}
