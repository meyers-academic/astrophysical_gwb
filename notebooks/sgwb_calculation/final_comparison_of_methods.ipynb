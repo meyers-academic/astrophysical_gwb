{
 "cells": [
  {
   "cell_type": "code",
   "execution_count": null,
   "id": "1a44f6d4-947f-4ec5-a320-79ebf5e0e1bd",
   "metadata": {},
   "outputs": [],
   "source": [
    "# Imports\n",
    "%load_ext autoreload\n",
    "%autoreload 2\n",
    "\n",
    "import matplotlib \n",
    "import matplotlib.pyplot as plt\n",
    "import numpy as np\n",
    "import scipy\n",
    "from tqdm import tqdm\n",
    "import sys\n",
    "from tqdm import tqdm\n",
    "import pickle\n",
    "from pathlib import Path\n",
    "import bilby\n",
    "\n",
    "# Add module\n",
    "sys.path.append('../../modules')\n",
    "from compute_omega import sample_dict_compute_injected_omega\n",
    "from gwBackground_module import *\n",
    "\n",
    "from constants import *\n",
    "\n",
    "from pygwb.constants import H0\n",
    "import equations\n",
    "import redshiftPrior\n",
    "\n",
    "from loguru import logger\n",
    "\n",
    "import lal\n",
    "lal.swig_redirect_standard_output_error(False)\n",
    "\n",
    "import montecarlo as hf"
   ]
  },
  {
   "cell_type": "code",
   "execution_count": null,
   "id": "380794c8",
   "metadata": {},
   "outputs": [],
   "source": [
    "# # Plot formatting\n",
    "# matplotlib.rcParams.update(matplotlib.rcParamsDefault)\n",
    "# fontsize = 9\n",
    "# params = {\n",
    "#    'axes.labelsize': fontsize,\n",
    "#    'font.size': fontsize,\n",
    "#    'legend.fontsize': 8,\n",
    "#    'xtick.labelsize': fontsize,\n",
    "#    'ytick.labelsize': fontsize,\n",
    "#    'axes.titlesize': fontsize,\n",
    "#    'lines.linewidth': 1,  \n",
    "#    'xtick.direction': 'in',\n",
    "#    'ytick.direction': 'in',\n",
    "#    'font.family': 'Serif',\n",
    "#    'font.serif': 'Hoefler Text',\n",
    "#    'axes.grid': True,\n",
    "#    'figure.figsize': (6.75, 4),\n",
    "#    'figure.dpi': 250,\n",
    "#    'mathtext.fontset': 'cm'\n",
    "# }\n",
    "\n",
    "# for param in params.keys():\n",
    "#     matplotlib.rcParams[param] = params[param]  "
   ]
  },
  {
   "cell_type": "code",
   "execution_count": null,
   "id": "0cb86f83",
   "metadata": {},
   "outputs": [],
   "source": [
    "import numpy as np\n",
    "import matplotlib\n",
    "import matplotlib.pyplot as plt\n",
    "matplotlib.rcParams.update(matplotlib.rcParamsDefault)\n",
    "fontsize = 18\n",
    "# ALWAYS USE figsize = (3.375, X) for column plots \n",
    "# figsize = (6.75, X) for rows \n",
    "params = {\n",
    "   'axes.labelsize': fontsize,\n",
    "   'font.size': fontsize,\n",
    "   'legend.fontsize': 12,\n",
    "   'xtick.labelsize': fontsize,\n",
    "   'ytick.labelsize': fontsize,\n",
    "   'axes.titlesize':fontsize,\n",
    "   'lines.linewidth':1,  \n",
    "   'xtick.direction':'in',\n",
    "   'ytick.direction':'in',\n",
    "   'font.family':'Serif',\n",
    "   'font.serif':'Hoefler Text',\n",
    "   'axes.grid':True,\n",
    "   'figure.figsize': (6.75, 4),\n",
    "   'figure.dpi':250,\n",
    "   'mathtext.fontset':'cm'\n",
    "}\n",
    "\n",
    "for param in params.keys():\n",
    "    matplotlib.rcParams[param] = params[param]    "
   ]
  },
  {
   "cell_type": "markdown",
   "id": "f71b0399-c2a5-4167-89b6-5c7888505681",
   "metadata": {},
   "source": [
    "# Helper Functions"
   ]
  },
  {
   "cell_type": "code",
   "execution_count": null,
   "id": "bfa00f24-75cb-4f64-a5f9-73181d9c2a6b",
   "metadata": {},
   "outputs": [],
   "source": []
  },
  {
   "cell_type": "markdown",
   "id": "eb8c69c0-4157-418f-90e2-e2a9ea9946a5",
   "metadata": {},
   "source": [
    "# Parameters"
   ]
  },
  {
   "cell_type": "code",
   "execution_count": null,
   "id": "aea4e87b-76aa-46ee-92a2-8f17e1d77c7e",
   "metadata": {},
   "outputs": [],
   "source": [
    "# Constants\n",
    "# Mass Parameters\n",
    "BBH_min = 5 # minimum BBH mass\n",
    "BBH_max = 44 # maximum BBH mass\n",
    "\n",
    "# Frequency Parameters\n",
    "fmax = 3000\n",
    "fref = 25\n",
    "\n",
    "fs = 4096\n",
    "\n",
    "# Data Simulation Parameters\n",
    "T_obs = .1 # observation time (in yrs)\n",
    "duration = T_obs*60*60*24*365.25 # duration of each segment of data (in s)\n",
    "N_segs = 1 # number of data segments to generate\n",
    "sampling_frequency = 4096 # sampling rate (in Hz)\n",
    "num_iterations = 50 # number of iterations to average Omega(f) over\n",
    "\n",
    "z_max = 20\n",
    "\n",
    "N_inj = 100_000 # number of injections that we will then reweight"
   ]
  },
  {
   "cell_type": "code",
   "execution_count": null,
   "id": "4f62615a-aed8-492b-80ed-c25cbc519498",
   "metadata": {},
   "outputs": [],
   "source": [
    "# Standard Prior Dictionary\n",
    "# Prior dictionary for priors we *want* to calculate omega_gw for\n",
    "priors = bilby.gw.prior.BBHPriorDict(aligned_spin=True)\n",
    "priors['mass_1'] = bilby.core.prior.PowerLaw(alpha=-2.8, minimum=BBH_min, maximum=BBH_max)\n",
    "priors['mass_ratio'] = bilby.core.prior.PowerLaw(alpha=1.5, minimum=0, maximum=1)\n",
    "priors['theta_jn'] = bilby.core.prior.Uniform(minimum=0, maximum=2*np.pi, name='theta_jn')\n",
    "priors['redshift'] = redshiftPrior.BrokenPowerLawRedshiftPrior(R0=R0, alpha=alpha, beta=beta, zp=zp, minimum=0, maximum=z_max, name='redshift')\n",
    "priors['geocent_time'] = bilby.core.prior.Uniform(minimum=0, maximum=T_obs, name='geocent_time')\n",
    "del priors['luminosity_distance']\n",
    "del priors['chirp_mass']\n",
    "\n",
    "# \"Reference\" prior dictionary\n",
    "ref_priors = bilby.gw.prior.BBHPriorDict(aligned_spin=True)\n",
    "ref_priors['mass_1'] = bilby.core.prior.Uniform(minimum=BBH_min, maximum=BBH_max)\n",
    "ref_priors['mass_ratio'] = bilby.core.prior.Uniform(minimum=0, maximum=1)\n",
    "ref_priors['theta_jn'] = bilby.core.prior.Uniform(minimum=0, maximum=2*np.pi, name='theta_jn')\n",
    "ref_priors['redshift'] = redshiftPrior.BrokenPowerLawRedshiftPrior(R0=R0, alpha=alpha, beta=beta, zp=zp,\n",
    "                                                                       minimum=0, maximum=z_max, name='redshift')\n",
    "ref_priors['geocent_time'] = bilby.core.prior.Uniform(minimum=0, maximum=T_obs, name='geocent_time')\n",
    "del ref_priors['luminosity_distance']\n",
    "del ref_priors['chirp_mass']"
   ]
  },
  {
   "cell_type": "code",
   "execution_count": null,
   "id": "fff44228-1545-42ba-b82a-dab47aabeb62",
   "metadata": {},
   "outputs": [],
   "source": [
    "# Calculate number of injections\n",
    "zs, p_dz = priors['redshift']._get_redshift_arrays()\n",
    "print(zs)\n",
    "N = hf.calculate_num_injections(T_obs, priors).value\n",
    "print(N)"
   ]
  },
  {
   "cell_type": "markdown",
   "id": "5b583fa8-ea2e-4728-a543-964a21850e21",
   "metadata": {},
   "source": [
    "# Gridded Method"
   ]
  },
  {
   "cell_type": "markdown",
   "id": "1c7a364f-c838-4ed0-a2cb-a03b0a328e47",
   "metadata": {},
   "source": [
    "## Calculate Gridded Method"
   ]
  },
  {
   "cell_type": "code",
   "execution_count": null,
   "id": "98286b49-5417-4943-86be-d0e1aecda884",
   "metadata": {},
   "outputs": [],
   "source": [
    "# Gridded Method\n",
    "# Set up OmegaGW object\n",
    "inspiralOnly = False\n",
    "m1_min = BBH_min\n",
    "m1_max = BBH_max\n",
    "m2_min = BBH_min\n",
    "m2_max = BBH_max\n",
    "minimum_component_mass = BBH_min\n",
    "maximum_component_mass = BBH_max\n"
   ]
  },
  {
   "cell_type": "code",
   "execution_count": null,
   "id": "94bf195b-0941-49a1-8442-19b7d8bf232e",
   "metadata": {},
   "outputs": [],
   "source": [
    "if Path('callister_omg_object.pickle').exists():\n",
    "    print(\"Loading pickle...\")\n",
    "    omg = pickle.load(open('callister_omg_object.pickle', 'rb'))\n",
    "else:\n",
    "    omg = OmegaGW_BBH(minimum_component_mass, maximum_component_mass, zs)\n",
    "    pickle.dump(omg, open('callister_omg_object.pickle', 'wb'))"
   ]
  },
  {
   "cell_type": "code",
   "execution_count": null,
   "id": "544f7f86-60cc-4e9b-aea0-0440f5bdecf6",
   "metadata": {},
   "outputs": [],
   "source": [
    "# Calculate merger rate\n",
    "# mergerRate = equations.get_R_array(zs, alpha, beta, zp, R0)\n",
    "# mergerRate2 = equations.get_R_array(omg.ref_zs, alpha, beta, zp, R0)\n",
    "rate = priors['redshift']._get_rate_vs_redshift(omg.ref_zs)\n",
    "freqs_TC = np.arange(0, 2048.5, 0.5)\n",
    "\n",
    "# Calculate probability grid\n",
    "# Priors defined in (m1, q) space\n",
    "probs = np.empty((omg.m1s_2d.shape[0], omg.qs_2d.shape[1])) # initialize array\n",
    "for i in tqdm(range(omg.m1s_2d.shape[0])): # for each m1\n",
    "    for j in range(omg.qs_2d.shape[1]): # for each q\n",
    "        prob = priors.prob({'mass_1':omg.m1s_2d[i][j], 'mass_ratio':omg.qs_2d[i][j]}) # calculate probability\n",
    "        probs[i][j] = prob # insert probability into probability array\n",
    "probs = probs*(omg.Mtots_2d/(1. + omg.qs_2d)) # multiply by the Jacobian\n",
    "\n",
    "# Limit probabilities to physical masses\n",
    "probs[omg.m1s_2d < m1_min] = 0\n",
    "probs[omg.m1s_2d > m1_max] = 0\n",
    "probs[omg.m2s_2d < m2_min] = 0\n",
    "probs[omg.m2s_2d > m2_max] = 0\n",
    "\n",
    "# Normalize probabilities\n",
    "probs /= np.sum(probs)"
   ]
  },
  {
   "cell_type": "code",
   "execution_count": null,
   "id": "3811e091-2a40-4b50-bbc8-68fc770dc0e4",
   "metadata": {},
   "outputs": [],
   "source": [
    "omg.probs = probs\n",
    "OmegaGW_TC = omg.eval(R0, rate * 1e9, freqs_TC)"
   ]
  },
  {
   "cell_type": "markdown",
   "id": "e52f2923-0cec-4da7-8c84-b1fec4da0a59",
   "metadata": {},
   "source": [
    "## Plot Gridded Method"
   ]
  },
  {
   "cell_type": "code",
   "execution_count": null,
   "id": "49eaaf98-2cca-4ce3-a454-9cfa3901fa8b",
   "metadata": {},
   "outputs": [],
   "source": [
    "# Plot\n",
    "fig, ax = plt.subplots()\n",
    "ax.loglog(freqs_TC, OmegaGW_TC, color='#7dd4fa', lw=4)\n",
    "ax.set_title(r'GW Energy Density Spectrum (Gridded Method)')\n",
    "ax.set_xlabel(r'Frequency (Hz)')\n",
    "ax.set_ylabel(r'$\\Omega_{GW}(f)$')\n",
    "ax.set_xlim(10, 1000)\n",
    "plt.ylim(1e-10, 1e-8)\n",
    "ax.legend()\n",
    "fig.show()"
   ]
  },
  {
   "cell_type": "markdown",
   "id": "ecbf3b1e-35fc-487b-9abb-df4f580d60ec",
   "metadata": {},
   "source": [
    "# Monte carlo method"
   ]
  },
  {
   "cell_type": "code",
   "execution_count": null,
   "id": "441e84f4-31b2-441f-a880-380ac6363d6e",
   "metadata": {
    "scrolled": true
   },
   "outputs": [],
   "source": [
    "# Regimbau Method\n",
    "OmegaGW_AR = []\n",
    "for i in range(num_iterations):\n",
    "    freqs_psd, omega_gw_freq = hf.monteCarlo(priors, Tobs=T_obs, duration=2, f_ref=25, sampling_frequency=fs, approximant='IMRPhenomXPHM')\n",
    "    OmegaGW_AR.append(omega_gw_freq)"
   ]
  },
  {
   "cell_type": "code",
   "execution_count": null,
   "id": "c4db8938-9736-4c92-b716-f6ed0a87ce71",
   "metadata": {},
   "outputs": [],
   "source": [
    "# Plot spectrum\n",
    "plt.subplots()\n",
    "ax = plt.gca()\n",
    "ax.set_xscale('log')\n",
    "ax.set_yscale('log')\n",
    "ax.fill_between(freqs_psd, np.percentile(OmegaGW_AR, 5, axis=0), np.percentile(OmegaGW_AR, 95, axis=0), color='#d61c1c', alpha=0.5, label='Monte Carlo')\n",
    "ax.loglog(freqs_TC, OmegaGW_TC, color='#7dd4fa', label='Gridded')\n",
    "ax.set_xlim(10, 1000)\n",
    "ax.set_ylim(1e-10,1e-8)\n",
    "ax.set_title(r'GW Energy Density Spectrum (Monte Carlo Method)')\n",
    "ax.set_xlabel(r'Frequency (Hz)')\n",
    "ax.set_ylabel(r'$\\Omega_{GW}(f)$')\n",
    "ax.legend()"
   ]
  },
  {
   "cell_type": "markdown",
   "id": "164af5c6-cfb4-42c9-8869-d98820122e9d",
   "metadata": {},
   "source": [
    "# Reweighting Method"
   ]
  },
  {
   "cell_type": "markdown",
   "id": "4d987d98-59ad-4779-8138-cdd4f2258562",
   "metadata": {},
   "source": [
    "## Reweighting Method Code"
   ]
  },
  {
   "cell_type": "code",
   "execution_count": null,
   "id": "8d43860a-974a-4b73-8a3f-2281ff6ad056",
   "metadata": {
    "scrolled": true
   },
   "outputs": [],
   "source": [
    "# N_inj = int(N)\n",
    "omgw_rw = []\n",
    "for ii in range(num_iterations):\n",
    "    N_inj = 5000\n",
    "    T_obs = 0.1\n",
    "    # injections = draw_injections(ref_priors, T_obs)\n",
    "    injections = ref_priors.sample(N_inj)\n",
    "    N_inj = len(injections['mass_1'])\n",
    "    print(T_obs)\n",
    "    # Draw injections\n",
    "    # injections = priors.sample(N_inj)\n",
    "    \n",
    "    m1s = injections['mass_1']\n",
    "    qs = injections['mass_ratio']\n",
    "    zvals = injections['redshift']\n",
    "    \n",
    "    # Set up waveform generator\n",
    "    # Waveform generator parameters\n",
    "    sampling_frequency=sampling_frequency\n",
    "    approximant='IMRPhenomXPHM'\n",
    "    dEdfs, freqs = hf.get_dedf(injections, sampling_frequency=sampling_frequency, approximant=approximant)\n",
    "    weights = hf.get_weights(dEdfs, ref_priors, priors, zvals, m1s, qs)\n",
    "    h0 = equations.Hubble_rate_SI(0, H0, omegaR, omegaM, omegak, omegaL)\n",
    "    # weighted sum of h+^2 + hx^2 over vents\n",
    "    dEdf_sum = dEdfs.T @ weights\n",
    "    \n",
    "    # total rate for the priors we want Omega_{gw} for\n",
    "    total_rate = hf.calculate_total_rate(priors).value / (86400 * 365.25) # in units of [events s^{-1}]\n",
    "    print(total_rate)\n",
    "    \n",
    "    \n",
    "    OmegaGW_W = 2 * np.pi**2 * freqs**3 * dEdf_sum / (3 * h0.value**2)\n",
    "    Tobs_seconds = T_obs * 86400 * 365.25  # years to seconds\n",
    "    \n",
    "    # replace [1 / Tobs] by [rate / N_inj]\n",
    "    OmegaGW_W *= 2 * total_rate / N_inj\n",
    "    omgw_rw.append(OmegaGW_W)"
   ]
  },
  {
   "cell_type": "code",
   "execution_count": null,
   "id": "844c4b3c-8151-43f2-be78-53ff6e4bdfc9",
   "metadata": {},
   "outputs": [],
   "source": [
    "# Plot spectrum\n",
    "# plt.figure(figsize=(11, 7))\n",
    "ax = plt.gca()\n",
    "ax.set_xscale('log')\n",
    "ax.set_yscale('log')\n",
    "ax.loglog(freqs_TC, OmegaGW_TC, color='k',lw=2, label='Gridded')\n",
    "ax.fill_between(freqs_psd, np.percentile(OmegaGW_AR, 5, axis=0), np.percentile(OmegaGW_AR, 95, axis=0), color='#d61c1c', alpha=0.5, label='Monte Carlo')\n",
    "ax.fill_between(freqs_psd, np.percentile(omgw_rw, 5, axis=0), np.percentile(omgw_rw, 95, axis=0), color='#25cc33', alpha=0.5, label='Weighted')\n",
    "ax.set_xlim(10, 1000)\n",
    "ax.set_ylim(1e-10,1e-8)\n",
    "ax.set_title(r'GW Energy Density Spectrum')\n",
    "ax.set_xlabel(r'Frequency (Hz)')\n",
    "ax.set_ylabel(r'$\\Omega_{GW}(f)$')\n",
    "ax.legend(loc='upper left')\n",
    "plt.savefig(\"method_comparison.pdf\")\n",
    "plt.show()"
   ]
  },
  {
   "cell_type": "code",
   "execution_count": null,
   "id": "f0ef6556",
   "metadata": {},
   "outputs": [],
   "source": [
    "%matplotlib inline\n",
    "# Plot spectrum\n",
    "# Find OmegaGW(fref)\n",
    "fref = 25\n",
    "fref_approx_AR = 100\n",
    "fref_approx_index_AR = 0\n",
    "for i in range(len(freqs_psd)):\n",
    "    if(np.absolute(freqs_psd[i] - fref) < fref_approx_AR):\n",
    "        fref_approx_AR = np.absolute(freqs_psd[i] - fref)\n",
    "        fref_approx_index_AR = i\n",
    "Omega_ref_AR = np.sum(OmegaGW_AR, axis=0)[fref_approx_index_AR]\n",
    "diff = (Omega_ref_AR*np.divide(freqs_psd,fref)**(2/3))[50]-np.percentile(OmegaGW_AR, 50, axis=0)[50]\n",
    "diff = diff*np.ones(len(freqs_psd))\n",
    "plt.subplots()\n",
    "ax = plt.gca()\n",
    "ax.set_xscale('log')\n",
    "ax.set_yscale('log')\n",
    "ax.loglog(freqs_TC, OmegaGW_TC, color='#7dd4fa',lw=1, label='Gridded')\n",
    "ax.loglog(freqs_psd, Omega_ref_AR*np.divide(freqs_psd,fref)**(2/3)/60.5, '-', label='2/3 Power Law', color='#000000')\n",
    "ax.loglog(freqs_psd, Omega_ref_AR*np.divide(freqs_psd,fref)**(1/2)/60.5, '--', label='1/2 Power Law', color='#888888')\n",
    "ax.set_xlim(10, 1000)\n",
    "ax.set_ylim(1e-10,1e-8)\n",
    "ax.set_title(r'GW Energy Density Spectrum (Gridded Method)')\n",
    "ax.set_xlabel(r'Frequency (Hz)')\n",
    "ax.set_ylabel(r'$\\Omega_{GW}(f)$')\n",
    "ax.legend()"
   ]
  },
  {
   "cell_type": "code",
   "execution_count": null,
   "id": "5bc543c8",
   "metadata": {},
   "outputs": [],
   "source": [
    "# Plot spectrum\n",
    "# Find OmegaGW(fref)\n",
    "fref = 25\n",
    "fref_approx_AR = 100\n",
    "fref_approx_index_AR = 0\n",
    "for i in range(len(freqs_psd)):\n",
    "    if(np.absolute(freqs_psd[i] - fref) < fref_approx_AR):\n",
    "        fref_approx_AR = np.absolute(freqs_psd[i] - fref)\n",
    "        fref_approx_index_AR = i\n",
    "Omega_ref_AR = np.sum(OmegaGW_AR, axis=0)[fref_approx_index_AR]\n",
    "diff = (Omega_ref_AR*np.divide(freqs_psd,fref)**(2/3))[50]-np.percentile(OmegaGW_AR, 50, axis=0)[50]\n",
    "diff = diff*np.ones(len(freqs_psd))\n",
    "plt.subplots()\n",
    "ax = plt.gca()\n",
    "ax.set_xscale('log')\n",
    "ax.set_yscale('log')\n",
    "ax.fill_between(freqs_psd, np.percentile(OmegaGW_AR, 50, axis=0), np.percentile(OmegaGW_AR, 50, axis=0), color='#d61c1c', alpha=0.5)\n",
    "ax.loglog(freqs_psd, Omega_ref_AR*np.divide(freqs_psd,fref)**(2/3)/51.3, '-', label='2/3 Power Law', color='#000000')\n",
    "ax.loglog(freqs_psd, Omega_ref_AR*np.divide(freqs_psd,fref)**(1/2)/51.3, '--', label='1/2 Power Law', color='#888888')\n",
    "ax.set_xlim(10, 1000)\n",
    "ax.set_ylim(1e-10,1e-8)\n",
    "ax.set_title(r'GW Energy Density Spectrum (Monte Carlo Method)')\n",
    "ax.set_xlabel(r'Frequency (Hz)')\n",
    "ax.set_ylabel(r'$\\Omega_{GW}(f)$')\n",
    "ax.legend()"
   ]
  },
  {
   "cell_type": "code",
   "execution_count": null,
   "id": "0c763839",
   "metadata": {},
   "outputs": [],
   "source": [
    "fref = 25\n",
    "fref_approx_W = 100\n",
    "fref_approx_index_W = 0\n",
    "for i in range(len(freqs_psd)):\n",
    "    if(np.absolute(freqs_psd[i] - fref) < fref_approx_W):\n",
    "        fref_approx_W = np.absolute(freqs_psd[i] - fref)\n",
    "        fref_approx_index_W = i\n",
    "Omega_ref_W = np.sum(omgw_rw, axis=0)[fref_approx_index_W]\n",
    "fig, ax = plt.subplots()\n",
    "ax.set_xscale('log')\n",
    "ax.set_yscale('log')\n",
    "ax.fill_between(freqs_psd, np.percentile(omgw_rw, 50, axis=0), np.percentile(omgw_rw, 50, axis=0), color='#25cc33', alpha=0.3)\n",
    "ax.loglog(freqs_psd, Omega_ref_W*np.divide(freqs_psd,fref)**(2/3)/50.5, '-', label='2/3 Power Law', color='#000000')\n",
    "ax.loglog(freqs_psd, Omega_ref_W*np.divide(freqs_psd,fref)**(1/2)/50.5, '--', label='1/2 Power Law', color='#888888')\n",
    "ax.set_title(r'GW Energy Density Spectrum (Weighted Method)')\n",
    "ax.set_xlabel(r'Frequency (Hz)')\n",
    "ax.set_ylabel(r'$\\Omega_{GW}(f)$')\n",
    "ax.set_xlim(10, 1000)\n",
    "ax.set_ylim(1e-10,1e-8)\n",
    "ax.legend()"
   ]
  },
  {
   "cell_type": "code",
   "execution_count": null,
   "id": "99ff3554",
   "metadata": {},
   "outputs": [],
   "source": []
  }
 ],
 "metadata": {
  "kernelspec": {
   "display_name": "Python (igwn-py39-lw)",
   "language": "python",
   "name": "igwn-py39-lw"
  },
  "language_info": {
   "codemirror_mode": {
    "name": "ipython",
    "version": 3
   },
   "file_extension": ".py",
   "mimetype": "text/x-python",
   "name": "python",
   "nbconvert_exporter": "python",
   "pygments_lexer": "ipython3",
   "version": "3.9.16"
  }
 },
 "nbformat": 4,
 "nbformat_minor": 5
}
