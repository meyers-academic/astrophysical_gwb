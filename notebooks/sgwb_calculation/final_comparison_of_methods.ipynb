{
 "cells": [
  {
   "cell_type": "code",
   "execution_count": 1,
   "id": "1a44f6d4-947f-4ec5-a320-79ebf5e0e1bd",
   "metadata": {},
   "outputs": [],
   "source": [
    "# Imports\n",
    "%load_ext autoreload\n",
    "%autoreload 2\n",
    "\n",
    "import matplotlib \n",
    "import matplotlib.pyplot as plt\n",
    "import numpy as np\n",
    "import scipy\n",
    "from tqdm import tqdm\n",
    "import sys\n",
    "from tqdm import tqdm\n",
    "import pickle\n",
    "from pathlib import Path\n",
    "import bilby\n",
    "\n",
    "# Add module\n",
    "sys.path.append('../../modules')\n",
    "from compute_omega import sample_dict_compute_injected_omega\n",
    "from gwBackground_module import *\n",
    "\n",
    "from constants import *\n",
    "\n",
    "from pygwb.constants import H0\n",
    "import equations\n",
    "import redshiftPrior\n",
    "\n",
    "from loguru import logger\n",
    "\n",
    "import lal\n",
    "lal.swig_redirect_standard_output_error(False)\n",
    "\n",
    "import montecarlo as hf"
   ]
  },
  {
   "cell_type": "markdown",
   "id": "f71b0399-c2a5-4167-89b6-5c7888505681",
   "metadata": {},
   "source": [
    "# Helper Functions"
   ]
  },
  {
   "cell_type": "code",
   "execution_count": null,
   "id": "bfa00f24-75cb-4f64-a5f9-73181d9c2a6b",
   "metadata": {},
   "outputs": [],
   "source": []
  },
  {
   "cell_type": "markdown",
   "id": "eb8c69c0-4157-418f-90e2-e2a9ea9946a5",
   "metadata": {},
   "source": [
    "# Parameters"
   ]
  },
  {
   "cell_type": "code",
   "execution_count": 2,
   "id": "aea4e87b-76aa-46ee-92a2-8f17e1d77c7e",
   "metadata": {},
   "outputs": [],
   "source": [
    "# Constants\n",
    "# Mass Parameters\n",
    "BBH_min = 5 # minimum BBH mass\n",
    "BBH_max = 44 # maximum BBH mass\n",
    "\n",
    "# Frequency Parameters\n",
    "fmax = 3000\n",
    "fref = 25\n",
    "\n",
    "fs = 4096\n",
    "\n",
    "# Data Simulation Parameters\n",
    "T_obs = .1 # observation time (in yrs)\n",
    "duration = T_obs*60*60*24*365.25 # duration of each segment of data (in s)\n",
    "N_segs = 1 # number of data segments to generate\n",
    "sampling_frequency = 4096 # sampling rate (in Hz)\n",
    "num_iterations = 50 # number of iterations to average Omega(f) over\n",
    "\n",
    "z_max = 20\n",
    "\n",
    "N_inj = 100_000 # number of injections that we will then reweight"
   ]
  },
  {
   "cell_type": "code",
   "execution_count": null,
   "id": "94140e79-b0cf-489a-9575-3f8fe5dd3e46",
   "metadata": {},
   "outputs": [],
   "source": []
  },
  {
   "cell_type": "code",
   "execution_count": 3,
   "id": "4f62615a-aed8-492b-80ed-c25cbc519498",
   "metadata": {},
   "outputs": [
    {
     "name": "stderr",
     "output_type": "stream",
     "text": [
      "17:21 bilby INFO    : Using aligned spin prior\n",
      "17:21 bilby INFO    : No prior given, using default BBH priors in /Users/patrickmeyers/opt/anaconda3/envs/surf_2023_omega_gw/lib/python3.10/site-packages/bilby/gw/prior_files/aligned_spins_bbh.prior.\n",
      "17:21 bilby INFO    : Using aligned spin prior\n",
      "17:21 bilby INFO    : No prior given, using default BBH priors in /Users/patrickmeyers/opt/anaconda3/envs/surf_2023_omega_gw/lib/python3.10/site-packages/bilby/gw/prior_files/aligned_spins_bbh.prior.\n"
     ]
    }
   ],
   "source": [
    "# Standard Prior Dictionary\n",
    "# Prior dictionary for priors we *want* to calculate omega_gw for\n",
    "priors = bilby.gw.prior.BBHPriorDict(aligned_spin=True)\n",
    "priors['mass_1'] = bilby.core.prior.PowerLaw(alpha=-2.8, minimum=BBH_min, maximum=BBH_max)\n",
    "priors['mass_ratio'] = bilby.core.prior.PowerLaw(alpha=1.5, minimum=0, maximum=1)\n",
    "priors['theta_jn'] = bilby.core.prior.Uniform(minimum=0, maximum=2*np.pi, name='theta_jn')\n",
    "priors['chi_1'] = 0\n",
    "priors['chi_2'] = 0\n",
    "priors['redshift'] = redshiftPrior.BrokenPowerLawRedshiftPrior(R0=R0, alpha=alpha, beta=beta, zp=zp, minimum=0, maximum=z_max, name='redshift')\n",
    "priors['geocent_time'] = bilby.core.prior.Uniform(minimum=0, maximum=T_obs, name='geocent_time')\n",
    "del priors['luminosity_distance']\n",
    "del priors['chirp_mass']\n",
    "\n",
    "# \"Reference\" prior dictionary\n",
    "ref_priors = bilby.gw.prior.BBHPriorDict(aligned_spin=True)\n",
    "# uniform_priors['mass_1'] = bilby.core.prior.PowerLaw(alpha=-2.3, minimum=BBH_min, maximum=BBH_max)\n",
    "ref_priors['mass_1'] = bilby.core.prior.Uniform(minimum=BBH_min, maximum=BBH_max)\n",
    "ref_priors['mass_ratio'] = bilby.core.prior.Uniform(minimum=0, maximum=1)\n",
    "ref_priors['theta_jn'] = bilby.core.prior.Uniform(minimum=0, maximum=2*np.pi, name='theta_jn')\n",
    "ref_priors['chi_1'] = 0\n",
    "ref_priors['chi_2'] = 0\n",
    "ref_priors['redshift'] = redshiftPrior.BrokenPowerLawRedshiftPrior(R0=R0, alpha=alpha, beta=beta, zp=zp,\n",
    "                                                                       minimum=0, maximum=z_max, name='redshift')\n",
    "ref_priors['geocent_time'] = bilby.core.prior.Uniform(minimum=0, maximum=T_obs, name='geocent_time')\n",
    "del ref_priors['luminosity_distance']\n",
    "del ref_priors['chirp_mass']"
   ]
  },
  {
   "cell_type": "code",
   "execution_count": 4,
   "id": "fff44228-1545-42ba-b82a-dab47aabeb62",
   "metadata": {},
   "outputs": [
    {
     "name": "stdout",
     "output_type": "stream",
     "text": [
      "[0.0000000e+00 1.0006003e-02 2.0012006e-02 ... 1.9981988e+01 1.9991994e+01\n",
      " 2.0002000e+01]\n",
      "4856.7039176108765\n"
     ]
    }
   ],
   "source": [
    "# Calculate number of injections\n",
    "\n",
    "\n",
    "zs, p_dz = priors['redshift']._get_redshift_arrays()\n",
    "print(zs)\n",
    "N = hf.calculate_num_injections(T_obs, priors).value\n",
    "print(N)"
   ]
  },
  {
   "cell_type": "markdown",
   "id": "5b583fa8-ea2e-4728-a543-964a21850e21",
   "metadata": {},
   "source": [
    "# Gridded Method"
   ]
  },
  {
   "cell_type": "markdown",
   "id": "1c7a364f-c838-4ed0-a2cb-a03b0a328e47",
   "metadata": {},
   "source": [
    "## Calculate Gridded Method"
   ]
  },
  {
   "cell_type": "code",
   "execution_count": 5,
   "id": "98286b49-5417-4943-86be-d0e1aecda884",
   "metadata": {},
   "outputs": [],
   "source": [
    "# Gridded Method\n",
    "# Set up OmegaGW object\n",
    "inspiralOnly = False\n",
    "m1_min = BBH_min\n",
    "m1_max = BBH_max\n",
    "m2_min = BBH_min\n",
    "m2_max = BBH_max\n",
    "minimum_component_mass = BBH_min\n",
    "maximum_component_mass = BBH_max\n"
   ]
  },
  {
   "cell_type": "code",
   "execution_count": 7,
   "id": "94bf195b-0941-49a1-8442-19b7d8bf232e",
   "metadata": {},
   "outputs": [
    {
     "name": "stdout",
     "output_type": "stream",
     "text": [
      "Loading pickle...\n"
     ]
    }
   ],
   "source": [
    "if Path('callister_omg_object.pickle').exists():\n",
    "    print(\"Loading pickle...\")\n",
    "    omg = pickle.load(open('callister_omg_object.pickle', 'rb'))\n",
    "else:\n",
    "    omg = OmegaGW_BBH(minimum_component_mass, maximum_component_mass, zs)\n",
    "    pickle.dump(omg, open('callister_omg_object.pickle', 'wb'))"
   ]
  },
  {
   "cell_type": "code",
   "execution_count": 8,
   "id": "544f7f86-60cc-4e9b-aea0-0440f5bdecf6",
   "metadata": {},
   "outputs": [
    {
     "name": "stderr",
     "output_type": "stream",
     "text": [
      "100%|██████████████████████████████████████████████████████████████████████████████████████████████████████████████████████████████████████████████████████████████████████████████| 65/65 [00:00<00:00, 151.36it/s]\n"
     ]
    }
   ],
   "source": [
    "# Calculate merger rate\n",
    "# mergerRate = equations.get_R_array(zs, alpha, beta, zp, R0)\n",
    "# mergerRate2 = equations.get_R_array(omg.ref_zs, alpha, beta, zp, R0)\n",
    "rate = priors['redshift']._get_rate_vs_redshift(omg.ref_zs)\n",
    "freqs_TC = np.arange(0, 2048.5, 0.5)\n",
    "\n",
    "# Calculate probability grid\n",
    "# Priors defined in (m1, q) space\n",
    "probs = np.empty((omg.m1s_2d.shape[0], omg.qs_2d.shape[1])) # initialize array\n",
    "for i in tqdm(range(omg.m1s_2d.shape[0])): # for each m1\n",
    "    for j in range(omg.qs_2d.shape[1]): # for each q\n",
    "        prob = priors.prob({'mass_1':omg.m1s_2d[i][j], 'mass_ratio':omg.qs_2d[i][j]}) # calculate probability\n",
    "        probs[i][j] = prob # insert probability into probability array\n",
    "probs = probs*(omg.Mtots_2d/(1. + omg.qs_2d)) # multiply by the Jacobian\n",
    "\n",
    "# Limit probabilities to physical masses\n",
    "probs[omg.m1s_2d < m1_min] = 0\n",
    "probs[omg.m1s_2d > m1_max] = 0\n",
    "probs[omg.m2s_2d < m2_min] = 0\n",
    "probs[omg.m2s_2d > m2_max] = 0\n",
    "\n",
    "# Normalize probabilities\n",
    "probs /= np.sum(probs)"
   ]
  },
  {
   "cell_type": "code",
   "execution_count": 9,
   "id": "3811e091-2a40-4b50-bbc8-68fc770dc0e4",
   "metadata": {},
   "outputs": [],
   "source": [
    "omg.probs = probs\n",
    "OmegaGW_TC = omg.eval(R0, rate * 1e9, freqs_TC)"
   ]
  },
  {
   "cell_type": "markdown",
   "id": "e52f2923-0cec-4da7-8c84-b1fec4da0a59",
   "metadata": {},
   "source": [
    "## Plot Gridded Method"
   ]
  },
  {
   "cell_type": "code",
   "execution_count": 10,
   "id": "49eaaf98-2cca-4ce3-a454-9cfa3901fa8b",
   "metadata": {},
   "outputs": [
    {
     "name": "stderr",
     "output_type": "stream",
     "text": [
      "No artists with labels found to put in legend.  Note that artists whose label start with an underscore are ignored when legend() is called with no argument.\n",
      "/var/folders/pw/q58shg_d4vz37qn56ds0zjm40000gn/T/ipykernel_78291/3613230569.py:10: UserWarning: Matplotlib is currently using module://matplotlib_inline.backend_inline, which is a non-GUI backend, so cannot show the figure.\n",
      "  fig.show()\n"
     ]
    },
    {
     "data": {
      "image/png": "[encoded data removed]",
      "text/plain": [
       "<Figure size 640x480 with 1 Axes>"
      ]
     },
     "metadata": {},
     "output_type": "display_data"
    }
   ],
   "source": [
    "# Plot\n",
    "fig, ax = plt.subplots()\n",
    "ax.loglog(freqs_TC, OmegaGW_TC, color='#7dd4fa', lw=4)\n",
    "ax.set_title(r'GW Energy Density Spectrum (Gridded Method)')\n",
    "ax.set_xlabel(r'Frequency (Hz)')\n",
    "ax.set_ylabel(r'$\\Omega_{GW}(f)$')\n",
    "ax.set_xlim(10, 1000)\n",
    "# plt.ylim(1e-10, 1e-8)\n",
    "ax.legend()\n",
    "fig.show()"
   ]
  },
  {
   "cell_type": "markdown",
   "id": "ecbf3b1e-35fc-487b-9abb-df4f580d60ec",
   "metadata": {},
   "source": [
    "# Monte carlo method"
   ]
  },
  {
   "cell_type": "code",
   "execution_count": null,
   "id": "441e84f4-31b2-441f-a880-380ac6363d6e",
   "metadata": {
    "scrolled": true
   },
   "outputs": [
    {
     "name": "stderr",
     "output_type": "stream",
     "text": [
      "\u001b[32m2024-04-15 17:28:25.974\u001b[0m | \u001b[1mINFO    \u001b[0m | \u001b[36mmontecarlo\u001b[0m:\u001b[36mdraw_injections\u001b[0m:\u001b[36m114\u001b[0m - \u001b[1mWe are averaging over 4856.7039176108765 1 / yr waveforms for 0.1 years\u001b[0m\n",
      "17:28 bilby INFO    : Waveform generator initiated with\n",
      "  frequency_domain_source_model: bilby.gw.source.lal_binary_black_hole\n",
      "  time_domain_source_model: None\n",
      "  parameter_conversion: bilby.gw.conversion.convert_to_lal_binary_black_hole_parameters\n",
      "100%|█████████████████████████████████████████████████████████████████████████████████████████████████████████████████████████████████████████████████████████████████████████| 4799/4799 [00:02<00:00, 1776.39it/s]\n",
      "\u001b[32m2024-04-15 17:28:28.867\u001b[0m | \u001b[1mINFO    \u001b[0m | \u001b[36mmontecarlo\u001b[0m:\u001b[36mdraw_injections\u001b[0m:\u001b[36m114\u001b[0m - \u001b[1mWe are averaging over 4856.7039176108765 1 / yr waveforms for 0.1 years\u001b[0m\n",
      "17:28 bilby INFO    : Waveform generator initiated with\n",
      "  frequency_domain_source_model: bilby.gw.source.lal_binary_black_hole\n",
      "  time_domain_source_model: None\n",
      "  parameter_conversion: bilby.gw.conversion.convert_to_lal_binary_black_hole_parameters\n",
      "100%|█████████████████████████████████████████████████████████████████████████████████████████████████████████████████████████████████████████████████████████████████████████| 4755/4755 [00:02<00:00, 1861.97it/s]\n",
      "\u001b[32m2024-04-15 17:28:31.603\u001b[0m | \u001b[1mINFO    \u001b[0m | \u001b[36mmontecarlo\u001b[0m:\u001b[36mdraw_injections\u001b[0m:\u001b[36m114\u001b[0m - \u001b[1mWe are averaging over 4856.7039176108765 1 / yr waveforms for 0.1 years\u001b[0m\n",
      "17:28 bilby INFO    : Waveform generator initiated with\n",
      "  frequency_domain_source_model: bilby.gw.source.lal_binary_black_hole\n",
      "  time_domain_source_model: None\n",
      "  parameter_conversion: bilby.gw.conversion.convert_to_lal_binary_black_hole_parameters\n",
      "100%|█████████████████████████████████████████████████████████████████████████████████████████████████████████████████████████████████████████████████████████████████████████| 4750/4750 [00:02<00:00, 1862.68it/s]\n",
      "\u001b[32m2024-04-15 17:28:34.338\u001b[0m | \u001b[1mINFO    \u001b[0m | \u001b[36mmontecarlo\u001b[0m:\u001b[36mdraw_injections\u001b[0m:\u001b[36m114\u001b[0m - \u001b[1mWe are averaging over 4856.7039176108765 1 / yr waveforms for 0.1 years\u001b[0m\n",
      "17:28 bilby INFO    : Waveform generator initiated with\n",
      "  frequency_domain_source_model: bilby.gw.source.lal_binary_black_hole\n",
      "  time_domain_source_model: None\n",
      "  parameter_conversion: bilby.gw.conversion.convert_to_lal_binary_black_hole_parameters\n",
      "100%|█████████████████████████████████████████████████████████████████████████████████████████████████████████████████████████████████████████████████████████████████████████| 4852/4852 [00:02<00:00, 1858.33it/s]\n",
      "\u001b[32m2024-04-15 17:28:37.134\u001b[0m | \u001b[1mINFO    \u001b[0m | \u001b[36mmontecarlo\u001b[0m:\u001b[36mdraw_injections\u001b[0m:\u001b[36m114\u001b[0m - \u001b[1mWe are averaging over 4856.7039176108765 1 / yr waveforms for 0.1 years\u001b[0m\n",
      "17:28 bilby INFO    : Waveform generator initiated with\n",
      "  frequency_domain_source_model: bilby.gw.source.lal_binary_black_hole\n",
      "  time_domain_source_model: None\n",
      "  parameter_conversion: bilby.gw.conversion.convert_to_lal_binary_black_hole_parameters\n",
      "100%|█████████████████████████████████████████████████████████████████████████████████████████████████████████████████████████████████████████████████████████████████████████| 4785/4785 [00:02<00:00, 1718.80it/s]\n",
      "\u001b[32m2024-04-15 17:28:40.108\u001b[0m | \u001b[1mINFO    \u001b[0m | \u001b[36mmontecarlo\u001b[0m:\u001b[36mdraw_injections\u001b[0m:\u001b[36m114\u001b[0m - \u001b[1mWe are averaging over 4856.7039176108765 1 / yr waveforms for 0.1 years\u001b[0m\n",
      "17:28 bilby INFO    : Waveform generator initiated with\n",
      "  frequency_domain_source_model: bilby.gw.source.lal_binary_black_hole\n",
      "  time_domain_source_model: None\n",
      "  parameter_conversion: bilby.gw.conversion.convert_to_lal_binary_black_hole_parameters\n",
      "100%|█████████████████████████████████████████████████████████████████████████████████████████████████████████████████████████████████████████████████████████████████████████| 4981/4981 [00:03<00:00, 1618.18it/s]\n",
      "\u001b[32m2024-04-15 17:28:43.432\u001b[0m | \u001b[1mINFO    \u001b[0m | \u001b[36mmontecarlo\u001b[0m:\u001b[36mdraw_injections\u001b[0m:\u001b[36m114\u001b[0m - \u001b[1mWe are averaging over 4856.7039176108765 1 / yr waveforms for 0.1 years\u001b[0m\n",
      "17:28 bilby INFO    : Waveform generator initiated with\n",
      "  frequency_domain_source_model: bilby.gw.source.lal_binary_black_hole\n",
      "  time_domain_source_model: None\n",
      "  parameter_conversion: bilby.gw.conversion.convert_to_lal_binary_black_hole_parameters\n",
      "100%|█████████████████████████████████████████████████████████████████████████████████████████████████████████████████████████████████████████████████████████████████████████| 4830/4830 [00:02<00:00, 1665.57it/s]\n",
      "\u001b[32m2024-04-15 17:28:46.567\u001b[0m | \u001b[1mINFO    \u001b[0m | \u001b[36mmontecarlo\u001b[0m:\u001b[36mdraw_injections\u001b[0m:\u001b[36m114\u001b[0m - \u001b[1mWe are averaging over 4856.7039176108765 1 / yr waveforms for 0.1 years\u001b[0m\n",
      "17:28 bilby INFO    : Waveform generator initiated with\n",
      "  frequency_domain_source_model: bilby.gw.source.lal_binary_black_hole\n",
      "  time_domain_source_model: None\n",
      "  parameter_conversion: bilby.gw.conversion.convert_to_lal_binary_black_hole_parameters\n",
      "100%|█████████████████████████████████████████████████████████████████████████████████████████████████████████████████████████████████████████████████████████████████████████| 4803/4803 [00:02<00:00, 1692.06it/s]\n",
      "\u001b[32m2024-04-15 17:28:49.599\u001b[0m | \u001b[1mINFO    \u001b[0m | \u001b[36mmontecarlo\u001b[0m:\u001b[36mdraw_injections\u001b[0m:\u001b[36m114\u001b[0m - \u001b[1mWe are averaging over 4856.7039176108765 1 / yr waveforms for 0.1 years\u001b[0m\n",
      "17:28 bilby INFO    : Waveform generator initiated with\n",
      "  frequency_domain_source_model: bilby.gw.source.lal_binary_black_hole\n",
      "  time_domain_source_model: None\n",
      "  parameter_conversion: bilby.gw.conversion.convert_to_lal_binary_black_hole_parameters\n",
      "100%|█████████████████████████████████████████████████████████████████████████████████████████████████████████████████████████████████████████████████████████████████████████| 4761/4761 [00:02<00:00, 1863.31it/s]\n",
      "\u001b[32m2024-04-15 17:28:52.336\u001b[0m | \u001b[1mINFO    \u001b[0m | \u001b[36mmontecarlo\u001b[0m:\u001b[36mdraw_injections\u001b[0m:\u001b[36m114\u001b[0m - \u001b[1mWe are averaging over 4856.7039176108765 1 / yr waveforms for 0.1 years\u001b[0m\n",
      "17:28 bilby INFO    : Waveform generator initiated with\n",
      "  frequency_domain_source_model: bilby.gw.source.lal_binary_black_hole\n",
      "  time_domain_source_model: None\n",
      "  parameter_conversion: bilby.gw.conversion.convert_to_lal_binary_black_hole_parameters\n",
      "100%|█████████████████████████████████████████████████████████████████████████████████████████████████████████████████████████████████████████████████████████████████████████| 4807/4807 [00:02<00:00, 1850.16it/s]\n",
      "\u001b[32m2024-04-15 17:28:55.116\u001b[0m | \u001b[1mINFO    \u001b[0m | \u001b[36mmontecarlo\u001b[0m:\u001b[36mdraw_injections\u001b[0m:\u001b[36m114\u001b[0m - \u001b[1mWe are averaging over 4856.7039176108765 1 / yr waveforms for 0.1 years\u001b[0m\n",
      "17:28 bilby INFO    : Waveform generator initiated with\n",
      "  frequency_domain_source_model: bilby.gw.source.lal_binary_black_hole\n",
      "  time_domain_source_model: None\n",
      "  parameter_conversion: bilby.gw.conversion.convert_to_lal_binary_black_hole_parameters\n",
      "100%|█████████████████████████████████████████████████████████████████████████████████████████████████████████████████████████████████████████████████████████████████████████| 4943/4943 [00:02<00:00, 1818.08it/s]\n",
      "\u001b[32m2024-04-15 17:28:58.020\u001b[0m | \u001b[1mINFO    \u001b[0m | \u001b[36mmontecarlo\u001b[0m:\u001b[36mdraw_injections\u001b[0m:\u001b[36m114\u001b[0m - \u001b[1mWe are averaging over 4856.7039176108765 1 / yr waveforms for 0.1 years\u001b[0m\n",
      "17:28 bilby INFO    : Waveform generator initiated with\n",
      "  frequency_domain_source_model: bilby.gw.source.lal_binary_black_hole\n",
      "  time_domain_source_model: None\n",
      "  parameter_conversion: bilby.gw.conversion.convert_to_lal_binary_black_hole_parameters\n",
      "100%|█████████████████████████████████████████████████████████████████████████████████████████████████████████████████████████████████████████████████████████████████████████| 4739/4739 [00:02<00:00, 1839.03it/s]\n",
      "\u001b[32m2024-04-15 17:29:00.778\u001b[0m | \u001b[1mINFO    \u001b[0m | \u001b[36mmontecarlo\u001b[0m:\u001b[36mdraw_injections\u001b[0m:\u001b[36m114\u001b[0m - \u001b[1mWe are averaging over 4856.7039176108765 1 / yr waveforms for 0.1 years\u001b[0m\n",
      "17:29 bilby INFO    : Waveform generator initiated with\n",
      "  frequency_domain_source_model: bilby.gw.source.lal_binary_black_hole\n",
      "  time_domain_source_model: None\n",
      "  parameter_conversion: bilby.gw.conversion.convert_to_lal_binary_black_hole_parameters\n",
      "100%|█████████████████████████████████████████████████████████████████████████████████████████████████████████████████████████████████████████████████████████████████████████| 4846/4846 [00:02<00:00, 1840.32it/s]\n",
      "\u001b[32m2024-04-15 17:29:03.595\u001b[0m | \u001b[1mINFO    \u001b[0m | \u001b[36mmontecarlo\u001b[0m:\u001b[36mdraw_injections\u001b[0m:\u001b[36m114\u001b[0m - \u001b[1mWe are averaging over 4856.7039176108765 1 / yr waveforms for 0.1 years\u001b[0m\n",
      "17:29 bilby INFO    : Waveform generator initiated with\n",
      "  frequency_domain_source_model: bilby.gw.source.lal_binary_black_hole\n",
      "  time_domain_source_model: None\n",
      "  parameter_conversion: bilby.gw.conversion.convert_to_lal_binary_black_hole_parameters\n",
      "100%|█████████████████████████████████████████████████████████████████████████████████████████████████████████████████████████████████████████████████████████████████████████| 4909/4909 [00:02<00:00, 1866.26it/s]\n",
      "\u001b[32m2024-04-15 17:29:06.409\u001b[0m | \u001b[1mINFO    \u001b[0m | \u001b[36mmontecarlo\u001b[0m:\u001b[36mdraw_injections\u001b[0m:\u001b[36m114\u001b[0m - \u001b[1mWe are averaging over 4856.7039176108765 1 / yr waveforms for 0.1 years\u001b[0m\n",
      "17:29 bilby INFO    : Waveform generator initiated with\n",
      "  frequency_domain_source_model: bilby.gw.source.lal_binary_black_hole\n",
      "  time_domain_source_model: None\n",
      "  parameter_conversion: bilby.gw.conversion.convert_to_lal_binary_black_hole_parameters\n",
      "100%|█████████████████████████████████████████████████████████████████████████████████████████████████████████████████████████████████████████████████████████████████████████| 4879/4879 [00:02<00:00, 1806.66it/s]\n",
      "\u001b[32m2024-04-15 17:29:09.295\u001b[0m | \u001b[1mINFO    \u001b[0m | \u001b[36mmontecarlo\u001b[0m:\u001b[36mdraw_injections\u001b[0m:\u001b[36m114\u001b[0m - \u001b[1mWe are averaging over 4856.7039176108765 1 / yr waveforms for 0.1 years\u001b[0m\n",
      "17:29 bilby INFO    : Waveform generator initiated with\n",
      "  frequency_domain_source_model: bilby.gw.source.lal_binary_black_hole\n",
      "  time_domain_source_model: None\n",
      "  parameter_conversion: bilby.gw.conversion.convert_to_lal_binary_black_hole_parameters\n",
      "100%|█████████████████████████████████████████████████████████████████████████████████████████████████████████████████████████████████████████████████████████████████████████| 4988/4988 [00:04<00:00, 1161.39it/s]\n",
      "\u001b[32m2024-04-15 17:29:13.795\u001b[0m | \u001b[1mINFO    \u001b[0m | \u001b[36mmontecarlo\u001b[0m:\u001b[36mdraw_injections\u001b[0m:\u001b[36m114\u001b[0m - \u001b[1mWe are averaging over 4856.7039176108765 1 / yr waveforms for 0.1 years\u001b[0m\n",
      "17:29 bilby INFO    : Waveform generator initiated with\n",
      "  frequency_domain_source_model: bilby.gw.source.lal_binary_black_hole\n",
      "  time_domain_source_model: None\n",
      "  parameter_conversion: bilby.gw.conversion.convert_to_lal_binary_black_hole_parameters\n",
      "100%|█████████████████████████████████████████████████████████████████████████████████████████████████████████████████████████████████████████████████████████████████████████| 4928/4928 [00:03<00:00, 1323.43it/s]\n",
      "\u001b[32m2024-04-15 17:29:17.738\u001b[0m | \u001b[1mINFO    \u001b[0m | \u001b[36mmontecarlo\u001b[0m:\u001b[36mdraw_injections\u001b[0m:\u001b[36m114\u001b[0m - \u001b[1mWe are averaging over 4856.7039176108765 1 / yr waveforms for 0.1 years\u001b[0m\n",
      "17:29 bilby INFO    : Waveform generator initiated with\n",
      "  frequency_domain_source_model: bilby.gw.source.lal_binary_black_hole\n",
      "  time_domain_source_model: None\n",
      "  parameter_conversion: bilby.gw.conversion.convert_to_lal_binary_black_hole_parameters\n",
      "100%|█████████████████████████████████████████████████████████████████████████████████████████████████████████████████████████████████████████████████████████████████████████| 4897/4897 [00:04<00:00, 1125.90it/s]\n",
      "\u001b[32m2024-04-15 17:29:22.423\u001b[0m | \u001b[1mINFO    \u001b[0m | \u001b[36mmontecarlo\u001b[0m:\u001b[36mdraw_injections\u001b[0m:\u001b[36m114\u001b[0m - \u001b[1mWe are averaging over 4856.7039176108765 1 / yr waveforms for 0.1 years\u001b[0m\n",
      "17:29 bilby INFO    : Waveform generator initiated with\n",
      "  frequency_domain_source_model: bilby.gw.source.lal_binary_black_hole\n",
      "  time_domain_source_model: None\n",
      "  parameter_conversion: bilby.gw.conversion.convert_to_lal_binary_black_hole_parameters\n",
      "100%|█████████████████████████████████████████████████████████████████████████████████████████████████████████████████████████████████████████████████████████████████████████| 4981/4981 [00:03<00:00, 1289.98it/s]\n",
      "\u001b[32m2024-04-15 17:29:26.546\u001b[0m | \u001b[1mINFO    \u001b[0m | \u001b[36mmontecarlo\u001b[0m:\u001b[36mdraw_injections\u001b[0m:\u001b[36m114\u001b[0m - \u001b[1mWe are averaging over 4856.7039176108765 1 / yr waveforms for 0.1 years\u001b[0m\n",
      "17:29 bilby INFO    : Waveform generator initiated with\n",
      "  frequency_domain_source_model: bilby.gw.source.lal_binary_black_hole\n",
      "  time_domain_source_model: None\n",
      "  parameter_conversion: bilby.gw.conversion.convert_to_lal_binary_black_hole_parameters\n",
      "100%|█████████████████████████████████████████████████████████████████████████████████████████████████████████████████████████████████████████████████████████████████████████| 4857/4857 [00:02<00:00, 1854.94it/s]\n",
      "\u001b[32m2024-04-15 17:29:29.350\u001b[0m | \u001b[1mINFO    \u001b[0m | \u001b[36mmontecarlo\u001b[0m:\u001b[36mdraw_injections\u001b[0m:\u001b[36m114\u001b[0m - \u001b[1mWe are averaging over 4856.7039176108765 1 / yr waveforms for 0.1 years\u001b[0m\n",
      "17:29 bilby INFO    : Waveform generator initiated with\n",
      "  frequency_domain_source_model: bilby.gw.source.lal_binary_black_hole\n",
      "  time_domain_source_model: None\n",
      "  parameter_conversion: bilby.gw.conversion.convert_to_lal_binary_black_hole_parameters\n",
      "100%|█████████████████████████████████████████████████████████████████████████████████████████████████████████████████████████████████████████████████████████████████████████| 4851/4851 [00:02<00:00, 1862.56it/s]\n",
      "\u001b[32m2024-04-15 17:29:32.139\u001b[0m | \u001b[1mINFO    \u001b[0m | \u001b[36mmontecarlo\u001b[0m:\u001b[36mdraw_injections\u001b[0m:\u001b[36m114\u001b[0m - \u001b[1mWe are averaging over 4856.7039176108765 1 / yr waveforms for 0.1 years\u001b[0m\n",
      "17:29 bilby INFO    : Waveform generator initiated with\n",
      "  frequency_domain_source_model: bilby.gw.source.lal_binary_black_hole\n",
      "  time_domain_source_model: None\n",
      "  parameter_conversion: bilby.gw.conversion.convert_to_lal_binary_black_hole_parameters\n",
      "100%|█████████████████████████████████████████████████████████████████████████████████████████████████████████████████████████████████████████████████████████████████████████| 4874/4874 [00:02<00:00, 1844.37it/s]\n",
      "\u001b[32m2024-04-15 17:29:34.966\u001b[0m | \u001b[1mINFO    \u001b[0m | \u001b[36mmontecarlo\u001b[0m:\u001b[36mdraw_injections\u001b[0m:\u001b[36m114\u001b[0m - \u001b[1mWe are averaging over 4856.7039176108765 1 / yr waveforms for 0.1 years\u001b[0m\n",
      "17:29 bilby INFO    : Waveform generator initiated with\n",
      "  frequency_domain_source_model: bilby.gw.source.lal_binary_black_hole\n",
      "  time_domain_source_model: None\n",
      "  parameter_conversion: bilby.gw.conversion.convert_to_lal_binary_black_hole_parameters\n",
      "100%|█████████████████████████████████████████████████████████████████████████████████████████████████████████████████████████████████████████████████████████████████████████| 4886/4886 [00:02<00:00, 1721.33it/s]\n",
      "\u001b[32m2024-04-15 17:29:37.990\u001b[0m | \u001b[1mINFO    \u001b[0m | \u001b[36mmontecarlo\u001b[0m:\u001b[36mdraw_injections\u001b[0m:\u001b[36m114\u001b[0m - \u001b[1mWe are averaging over 4856.7039176108765 1 / yr waveforms for 0.1 years\u001b[0m\n",
      "17:29 bilby INFO    : Waveform generator initiated with\n",
      "  frequency_domain_source_model: bilby.gw.source.lal_binary_black_hole\n",
      "  time_domain_source_model: None\n",
      "  parameter_conversion: bilby.gw.conversion.convert_to_lal_binary_black_hole_parameters\n",
      "100%|█████████████████████████████████████████████████████████████████████████████████████████████████████████████████████████████████████████████████████████████████████████| 4853/4853 [00:02<00:00, 1823.92it/s]\n",
      "\u001b[32m2024-04-15 17:29:40.839\u001b[0m | \u001b[1mINFO    \u001b[0m | \u001b[36mmontecarlo\u001b[0m:\u001b[36mdraw_injections\u001b[0m:\u001b[36m114\u001b[0m - \u001b[1mWe are averaging over 4856.7039176108765 1 / yr waveforms for 0.1 years\u001b[0m\n",
      "17:29 bilby INFO    : Waveform generator initiated with\n",
      "  frequency_domain_source_model: bilby.gw.source.lal_binary_black_hole\n",
      "  time_domain_source_model: None\n",
      "  parameter_conversion: bilby.gw.conversion.convert_to_lal_binary_black_hole_parameters\n",
      " 27%|████████████████████████████████████████████▉                                                                                                                            | 1294/4873 [00:00<00:01, 1840.13it/s]"
     ]
    }
   ],
   "source": [
    "# Regimbau Method\n",
    "OmegaGW_AR = []\n",
    "for i in range(num_iterations):\n",
    "    freqs_psd, omega_gw_freq = hf.monteCarlo(priors, Tobs=T_obs, duration=2, f_ref=25, sampling_frequency=fs, approximant='IMRPhenomD')\n",
    "    OmegaGW_AR.append(omega_gw_freq)\n",
    "\n"
   ]
  },
  {
   "cell_type": "code",
   "execution_count": null,
   "id": "c4db8938-9736-4c92-b716-f6ed0a87ce71",
   "metadata": {},
   "outputs": [],
   "source": [
    "# Plot spectrum\n",
    "plt.subplots()\n",
    "ax = plt.gca()\n",
    "ax.set_xscale('log')\n",
    "ax.set_yscale('log')\n",
    "ax.fill_between(freqs_psd, np.percentile(OmegaGW_AR, 5, axis=0), np.percentile(OmegaGW_AR, 95, axis=0), color='#d61c1c', alpha=0.5, label='Monte Carlo')\n",
    "ax.loglog(freqs_TC, OmegaGW_TC, color='#7dd4fa', label='Gridded')\n",
    "ax.set_xlim(10, 1000)\n",
    "ax.set_ylim(1e-10,1e-8)\n",
    "ax.set_title(r'GW Energy Density Spectrum (Monte Carlo Method)')\n",
    "ax.set_xlabel(r'Frequency (Hz)')\n",
    "ax.set_ylabel(r'$\\Omega_{GW}(f)$')\n",
    "ax.legend()"
   ]
  },
  {
   "cell_type": "markdown",
   "id": "164af5c6-cfb4-42c9-8869-d98820122e9d",
   "metadata": {},
   "source": [
    "# Reweighting Method"
   ]
  },
  {
   "cell_type": "markdown",
   "id": "4d987d98-59ad-4779-8138-cdd4f2258562",
   "metadata": {},
   "source": [
    "## Reweighting Method Code"
   ]
  },
  {
   "cell_type": "code",
   "execution_count": null,
   "id": "8d43860a-974a-4b73-8a3f-2281ff6ad056",
   "metadata": {
    "scrolled": true
   },
   "outputs": [],
   "source": [
    "# N_inj = int(N)\n",
    "omgw_rw = []\n",
    "for ii in range(50):\n",
    "    N_inj = 5000\n",
    "    T_obs = 0.1\n",
    "    # injections = draw_injections(ref_priors, T_obs)\n",
    "    injections = ref_priors.sample(N_inj)\n",
    "    N_inj = len(injections['mass_1'])\n",
    "    print(T_obs)\n",
    "    # Draw injections\n",
    "    # injections = priors.sample(N_inj)\n",
    "    \n",
    "    m1s = injections['mass_1']\n",
    "    qs = injections['mass_ratio']\n",
    "    zvals = injections['redshift']\n",
    "    \n",
    "    # Set up waveform generator\n",
    "    # Waveform generator parameters\n",
    "    sampling_frequency=sampling_frequency\n",
    "    approximant='IMRPhenomD'\n",
    "    dEdfs, freqs = hf.get_dedf(injections, sampling_frequency=sampling_frequency, approximant=approximant)\n",
    "    weights = hf.get_weights(dEdfs, ref_priors, priors, zvals, m1s, qs)\n",
    "    h0 = equations.Hubble_rate_SI(0, H0, omegaR, omegaM, omegak, omegaL)\n",
    "    # weighted sum of h+^2 + hx^2 over vents\n",
    "    dEdf_sum = dEdfs.T @ weights\n",
    "    \n",
    "    # total rate for the priors we want Omega_{gw} for\n",
    "    total_rate = hf.calculate_total_rate(priors).value / (86400 * 365.25) # in units of [events s^{-1}]\n",
    "    print(total_rate)\n",
    "    \n",
    "    \n",
    "    OmegaGW_W = 2 * np.pi**2 * freqs**3 * dEdf_sum / (3 * h0.value**2)\n",
    "    Tobs_seconds = T_obs * 86400 * 365.25  # years to seconds\n",
    "    \n",
    "    # replace [1 / Tobs] by [rate / N_inj]\n",
    "    OmegaGW_W *= 2 * total_rate / N_inj\n",
    "    omgw_rw.append(OmegaGW_W)"
   ]
  },
  {
   "cell_type": "code",
   "execution_count": null,
   "id": "844c4b3c-8151-43f2-be78-53ff6e4bdfc9",
   "metadata": {},
   "outputs": [],
   "source": [
    "# Plot spectrum\n",
    "plt.figure(figsize=(11, 7))\n",
    "ax = plt.gca()\n",
    "ax.set_xscale('log')\n",
    "ax.set_yscale('log')\n",
    "ax.fill_between(freqs_psd, np.percentile(OmegaGW_AR, 5, axis=0), np.percentile(OmegaGW_AR, 95, axis=0), color='#d61c1c', alpha=0.5, label='Monte Carlo')\n",
    "\n",
    "ax.fill_between(freqs_psd, np.percentile(omgw_rw, 5, axis=0), np.percentile(omgw_rw, 95, axis=0), color='g', alpha=0.5, label='Reweighted')\n",
    "ax.loglog(freqs_TC, OmegaGW_TC, color='k',lw=4, label='Gridded')\n",
    "ax.set_xlim(10, 1000)\n",
    "ax.set_ylim(1e-10,1e-8)\n",
    "# ax.set_title(r'GW Energy Density Spectrum (Monte Carlo Method)')\n",
    "ax.set_xlabel(r'Frequency (Hz)', fontsize=40)\n",
    "ax.set_ylabel(r'$\\Omega_{GW}(f)$', fontsize=40)\n",
    "plt.grid()\n",
    "ax.tick_params(labelsize=40)\n",
    "ax.legend(fontsize=30, loc='upper left')\n",
    "plt.tight_layout()\n",
    "plt.savefig(\"method_comparison.pdf\")\n",
    "plt.show()"
   ]
  }
 ],
 "metadata": {
  "kernelspec": {
   "display_name": "Python 3 (ipykernel)",
   "language": "python",
   "name": "python3"
  },
  "language_info": {
   "codemirror_mode": {
    "name": "ipython",
    "version": 3
   },
   "file_extension": ".py",
   "mimetype": "text/x-python",
   "name": "python",
   "nbconvert_exporter": "python",
   "pygments_lexer": "ipython3",
   "version": "3.10.12"
  }
 },
 "nbformat": 4,
 "nbformat_minor": 5
}
