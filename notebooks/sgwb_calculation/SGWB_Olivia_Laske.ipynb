{
 "cells": [
  {
   "cell_type": "code",
   "execution_count": 7,
   "id": "21c19f22",
   "metadata": {},
   "outputs": [],
   "source": [
    "# Olivia Laske\n",
    "# Version as of July 25, 2023\n",
    "# Imports\n",
    "import astropy.units as u\n",
    "import astropy.constants as constants\n",
    "import bilby\n",
    "import math\n",
    "import matplotlib.pyplot as plt\n",
    "import numpy as np\n",
    "from pygwb.detector import Interferometer\n",
    "from pygwb.network import Network\n",
    "from pygwb.simulator import Simulator\n",
    "import scipy"
   ]
  },
  {
   "cell_type": "code",
   "execution_count": 8,
   "id": "97b2e4ba",
   "metadata": {},
   "outputs": [],
   "source": [
    "import matplotlib \n",
    "matplotlib.rcParams.update(matplotlib.rcParamsDefault)\n",
    "fontsize = 9\n",
    "# ALWAYS USE figsize = (3.375, X) for column plots \n",
    "# figsize = (6.75, X) for rows \n",
    "params = {\n",
    "   'axes.labelsize': fontsize,\n",
    "   'font.size': fontsize,\n",
    "   'legend.fontsize': 8,\n",
    "   'xtick.labelsize': fontsize,\n",
    "   'ytick.labelsize': fontsize,\n",
    "   'axes.titlesize':fontsize,\n",
    "   'lines.linewidth':1,  \n",
    "   'xtick.direction':'in',\n",
    "   'ytick.direction':'in',\n",
    "#    'text.usetex': True,\n",
    "   'font.family':'Serif',\n",
    "   'font.serif':'Hoefler Text',\n",
    "   'axes.grid':True,\n",
    "   'figure.figsize': (6.75, 4),\n",
    "   'figure.dpi':250,\n",
    "   'mathtext.fontset':'cm'\n",
    "}\n",
    "\n",
    "for param in params.keys():\n",
    "    matplotlib.rcParams[param] = params[param]    "
   ]
  },
  {
   "cell_type": "markdown",
   "id": "861e8cce",
   "metadata": {},
   "source": [
    "$$\\rho_\\text{c}=\\frac{3H_0^2}{8\\pi G}$$"
   ]
  },
  {
   "cell_type": "code",
   "execution_count": 9,
   "id": "a497dbec",
   "metadata": {},
   "outputs": [],
   "source": [
    "def p_c(H0):\n",
    "    '''\n",
    "    Equation from Renzini et al. 2022.\n",
    "    Calculates the critical energy density.\n",
    "    \n",
    "    Parameters\n",
    "    ----------\n",
    "    H0 : double\n",
    "        Hubble constant\n",
    "        \n",
    "    Returns\n",
    "    -------\n",
    "    double\n",
    "        critical energy density\n",
    "    '''\n",
    "    G = 6.6743015e-11 # Gravitational constant, in m^3 kg^-1 s^-2\n",
    "    return ((3*(H0**2))/(8*math.pi*G))"
   ]
  },
  {
   "cell_type": "markdown",
   "id": "345c8c30",
   "metadata": {},
   "source": [
    "$$\\dot{N}(z)=\\mathcal{C}(\\alpha,\\beta,z_\\text{p})\\frac{\\dot{N}_0(1+z)^\\alpha}{1+(\\frac{1+z}{1+z_\\text{p}})^{\\alpha+\\beta}}$$"
   ]
  },
  {
   "cell_type": "code",
   "execution_count": 10,
   "id": "ea0ee586",
   "metadata": {},
   "outputs": [],
   "source": [
    "def R(alpha, beta, z, z_p, R0):\n",
    "    '''\n",
    "    Equation from Callister et al. 2020.\n",
    "    Calculates the merger rate at a given redshift.\n",
    "    \n",
    "    Parameters\n",
    "    ----------\n",
    "    alpha : double\n",
    "        spectral index before peak z_p\n",
    "    beta : double\n",
    "        spectral index after peak z_p\n",
    "    z : double\n",
    "        redshift\n",
    "    z_p : double\n",
    "        peak redshift of merger rate\n",
    "    R0 : double\n",
    "        current merger rate (z = 0)\n",
    "        \n",
    "    Returns\n",
    "    -------\n",
    "    double\n",
    "        merger rate at the given redshift\n",
    "    '''\n",
    "    return (C(alpha, beta, z_p)*((R0*((1+z)**alpha))/(1+(((1+z)/(1+z_p))**(alpha+beta)))))"
   ]
  },
  {
   "cell_type": "markdown",
   "id": "06997a08",
   "metadata": {},
   "source": [
    "$$\\mathcal{C}(\\alpha,\\beta,z_\\text{p})=1+(1+z_\\text{p})^{-(\\alpha+\\beta)}$$"
   ]
  },
  {
   "cell_type": "code",
   "execution_count": 11,
   "id": "fa0205c6",
   "metadata": {},
   "outputs": [],
   "source": [
    "def C(alpha, beta, z_p):\n",
    "    '''\n",
    "    Equation from Callister et al. 2020.\n",
    "    Calculates the normalization constant for the merger rate.\n",
    "    \n",
    "    Parameters\n",
    "    ----------\n",
    "    alpha : double\n",
    "        spectral index before peak z_p\n",
    "    beta : double\n",
    "        spectral index after peak z_p\n",
    "    z_p : double\n",
    "        peak redshift of merger rate\n",
    "    \n",
    "    Returns\n",
    "    -------\n",
    "    double\n",
    "        normalization constant for the merger rate\n",
    "    '''\n",
    "    return (1+((1+z_p)**(-alpha-beta)))"
   ]
  },
  {
   "cell_type": "markdown",
   "id": "d732ac82",
   "metadata": {},
   "source": [
    "$$H(z)=H_0(\\Omega_\\text{R}(1+z)^4+\\Omega_\\text{M}(1+z)^3+\\Omega_\\text{k}(1+z)^2+\\Omega_\\Lambda)^{1/2}$$"
   ]
  },
  {
   "cell_type": "code",
   "execution_count": 12,
   "id": "5e39bafb",
   "metadata": {},
   "outputs": [],
   "source": [
    "def Hubble_rate(z, H0, omega_R, omega_M, omega_k, omega_lambda):\n",
    "    '''\n",
    "    Equation from Renzini et al. 2022.\n",
    "    Calculates the Hubble rate as a function of redshift.\n",
    "    \n",
    "    Parameters\n",
    "    ----------\n",
    "    z : double\n",
    "        redshift\n",
    "    H0 : double\n",
    "        Hubble constant (Hubble rate at z = 0)\n",
    "    omega_R : double\n",
    "        radiation component of energy density\n",
    "    omega_M : double\n",
    "        matter component of energy density\n",
    "    omega_k : double\n",
    "        spacetime curvature component of energy density\n",
    "    omega_lambda : double\n",
    "        dark energy component of energy density, cosmological constant\n",
    "    \n",
    "    Returns\n",
    "    -------\n",
    "    double\n",
    "        Hubble rate for a given redshift z\n",
    "    '''\n",
    "    return H0*(((omega_R*((1+z)**4))+(omega_M*((1+z)**3))+(omega_k*((1+z)**2))+omega_lambda)**(1/2))"
   ]
  },
  {
   "cell_type": "markdown",
   "id": "8a93bd5a",
   "metadata": {},
   "source": [
    "$$\\bigg\\langle\\frac{dE_\\text{GW}}{df_\\text{r}}\\bigg\\rangle=\\int d\\theta p(\\theta)\\frac{dE_\\text{GW}(\\theta;f_\\text{r})}{df_\\text{r}}$$"
   ]
  },
  {
   "cell_type": "code",
   "execution_count": 13,
   "id": "d1e29f87",
   "metadata": {},
   "outputs": [],
   "source": [
    "def ave_dE_df(f, Mtots, events):\n",
    "    '''\n",
    "    Equation from Renzini et al. 2022.\n",
    "    Sums the spectral energy density of individual events with a given set of parameters.\n",
    "    \n",
    "    Parameters\n",
    "    ----------\n",
    "    f : double\n",
    "        frequency (in Hz)\n",
    "    f_merge : double\n",
    "        merger frequency (in Hz)\n",
    "    f_ring : double\n",
    "        ringdown frequency (in Hz)\n",
    "    f_cutoff : double\n",
    "        cutoff frequency (in Hz)\n",
    "    sigma : double\n",
    "        width of Lorentzian function around f_ring\n",
    "    events : List<double>\n",
    "        list of events that incorporates the mass distribution\n",
    "        \n",
    "    Returns\n",
    "    -------\n",
    "    double\n",
    "        average spectral density\n",
    "    '''\n",
    "    total_sum = 0\n",
    "    for i in range(len(events)):\n",
    "        Mtot = Mtots[i]\n",
    "        M = events[i]\n",
    "        value = dE_df(M, f, Mtot)\n",
    "        total_sum += value\n",
    "    return total_sum"
   ]
  },
  {
   "cell_type": "markdown",
   "id": "da045790",
   "metadata": {},
   "source": [
    "$$\\frac{dE_\\text{GW}}{df}=\\frac{(G\\pi)^{2/3}\\mathcal{M}^{5/3}}{3}H(f)$$"
   ]
  },
  {
   "cell_type": "code",
   "execution_count": 14,
   "id": "f3f4198a",
   "metadata": {},
   "outputs": [],
   "source": [
    "def dE_df(M, f, Mtot):\n",
    "    '''\n",
    "    Equation from Callister et al. 2016.\n",
    "    Calculates the spectral energy density for a single event.\n",
    "    \n",
    "    Parameters\n",
    "    ----------\n",
    "    M : double\n",
    "        chirp mass\n",
    "    f : double\n",
    "        frequency (in Hz)\n",
    "    f_merge : double\n",
    "        merger frequency (in Hz)\n",
    "    f_ring : double\n",
    "        ringdown frequency (in Hz)\n",
    "    f_cutoff : double\n",
    "        cutoff frequency (in Hz)\n",
    "    sigma : double\n",
    "        width of Lorentzian function around f_ring\n",
    "        \n",
    "    Returns\n",
    "    -------\n",
    "    double\n",
    "        spectral energy density for a given chirp mass and frequency\n",
    "    '''\n",
    "    G = 6.6743015e-11 # Gravitational constant, in m^3 kg^-1 s^-2\n",
    "    return ((((G*math.pi)**(2/3))*(M**(5/3))*H(f, Mtot))/3)"
   ]
  },
  {
   "cell_type": "markdown",
   "id": "e0b5d608",
   "metadata": {},
   "source": [
    "$$H(f)=\n",
    "\\begin{cases}\n",
    "    f^{-1/3} && (f<f_\\text{merge}) \\\\\n",
    "    \\frac{f^{2/3}}{f_\\text{merge}} && (f_\\text{merge}\\leq f<f_\\text{ring}) \\\\\n",
    "    \\frac{1}{f_\\text{merge}f_\\text{ring}^{4/3}}\\bigg(\\frac{f}{1+(\\frac{f-f_\\text{ring}}{\\sigma/2})^2}\\bigg)^2 && (f_\\text{ring} \\leq f<f_\\text{cutoff}) \\\\\n",
    "    0 && (f\\geq f_\\text{cutoff})\n",
    "\\end{cases}\n",
    "$$"
   ]
  },
  {
   "cell_type": "code",
   "execution_count": 15,
   "id": "11743984",
   "metadata": {},
   "outputs": [],
   "source": [
    "def H(f, Mtot):\n",
    "    '''\n",
    "    Equation from Callister et al. 2016.\n",
    "    Calculates H for a given frequency.\n",
    "    \n",
    "    Parameters\n",
    "    ----------\n",
    "    f : double\n",
    "        frequency (in Hz)\n",
    "    f_merge : double\n",
    "        merger frequency (in Hz)\n",
    "    f_ring : double\n",
    "        ringdown frequency (in Hz)\n",
    "    f_cutoff : double\n",
    "        cutoff frequency (in Hz)\n",
    "    sigma : double\n",
    "        width of Lorentzian function around f_ring\n",
    "        \n",
    "    Returns\n",
    "    -------\n",
    "    double\n",
    "        H(f)\n",
    "    '''\n",
    "    # Parameters from Tom Callister\n",
    "    # Waveform model from Ajith+ 2008 (10.1103/PhysRevD.77.104017)\n",
    "    # Define IMR parameters\n",
    "    # See Eq. 4.19 and Table 1\n",
    "    G = 6.6743015e-11 # Gravitational constant, in m^3 kg^-1 s^-2\n",
    "    c = 2.998e8 # Speed of light, in m/s\n",
    "    eta = 0.25\n",
    "    Msun = 1.99e30\n",
    "    MsunToSec = Msun*G/np.power(c,3.)\n",
    "       \n",
    "    f_merge = (0.29740*eta**2. + 0.044810*eta + 0.095560)/(np.pi*Mtot*MsunToSec)\n",
    "    f_ring = (0.59411*eta**2. + 0.089794*eta + 0.19111)/(np.pi*Mtot*MsunToSec)\n",
    "    f_cutoff = (0.84845*eta**2. + 0.12828*eta + 0.27299)/(np.pi*Mtot*MsunToSec)\n",
    "    sigma = (0.50801*eta**2. + 0.077515*eta + 0.022369)/(np.pi*Mtot*MsunToSec)\n",
    "    \n",
    "    if f < f_merge:\n",
    "        return (f**(-1/3))\n",
    "    elif f >= f_merge and f < f_ring:\n",
    "        return ((f**(2/3))/f_merge)\n",
    "    elif f >= f_ring and f < f_cutoff:\n",
    "        return ((1/(f_merge*(f_ring**(4/3))))*((f/(1+(((f-f_ring)/(sigma/2))**2)))**2))\n",
    "    else:\n",
    "        return 0"
   ]
  },
  {
   "cell_type": "code",
   "execution_count": 16,
   "id": "575975ca",
   "metadata": {},
   "outputs": [],
   "source": [
    "from bilby.gw.prior import Cosmological\n",
    "# Define redshift prior\n",
    "class PowerLawRedshiftPrior(Cosmological):\n",
    "    def __init__(self, minimum, maximum, R0, alpha, beta, zp, **kwargs):\n",
    "        \"\"\"\n",
    "        R0 is in units of Gpc^{-3} yr^{-1}\n",
    "        \"\"\"\n",
    "        self.R0 = R0 * 1e-9 # convert to Mpc^{-3} yr^{-1}\n",
    "        self.alpha = alpha\n",
    "        self.beta = beta\n",
    "        self.zp = zp\n",
    "        super(PowerLawRedshiftPrior, self).__init__(minimum=minimum, maximum=maximum, **kwargs)\n",
    "        \n",
    "    def _get_redshift_arrays(self):\n",
    "        zs = np.linspace(self._minimum['redshift'] * 0.99,\n",
    "                         self._maximum['redshift'] * 1.01, 1000)\n",
    "        C = 1 + (1 + self.zp)**(-self.alpha - self.beta)\n",
    "        p_dz = (1/(1+zs)) * C * ((self.R0 * (1 + zs)**(self.alpha))/(1 + ((1 + zs)/(1 + self.zp))**(self.alpha + self.beta))) * 4 * np.pi * self.cosmology.differential_comoving_volume(zs)\n",
    "        return zs, p_dz"
   ]
  },
  {
   "cell_type": "markdown",
   "id": "56ecf181",
   "metadata": {},
   "source": [
    "$$\\Omega_\\text{GW}=\\frac{f}{\\rho_\\text{c}}\\int_0^{z_\\text{max}}dz\\frac{\\dot{N}(z)}{(1+z)H(z)}\\bigg\\langle\\frac{dE_\\text{GW}}{df_\\text{r}}\\bigg |_{f_\\text{r}=f(1+z)}\\bigg\\rangle$$"
   ]
  },
  {
   "cell_type": "code",
   "execution_count": 17,
   "id": "6765a79e",
   "metadata": {},
   "outputs": [
    {
     "name": "stderr",
     "output_type": "stream",
     "text": [
      "09:53 bilby INFO    : Using aligned spin prior\n",
      "09:53 bilby INFO    : No prior given, using default BBH priors in /Users/olivialaske/opt/anaconda3/envs/igwn-py39-lw/lib/python3.9/site-packages/bilby/gw/prior_files/aligned_spins_bbh.prior.\n"
     ]
    }
   ],
   "source": [
    "# Method adapted from Callister et al. 2020 and Renzini et al. 2022\n",
    "# Generate List of Events\n",
    "\n",
    "# Define Parameters\n",
    "alpha = 1.9 # spectral index before peak z_p\n",
    "beta = 3.4 # spectral index after peak z_p\n",
    "z_p = 2.4 # peak redshift of merger rate\n",
    "\n",
    "R0 = 28.3 # current merger rate\n",
    "\n",
    "z_max = 10 # maximum plausible redshift\n",
    "\n",
    "H0 = 67.4 # Hubble constant (Hubble rate at z = 0), in km/s/Mpc\n",
    "omega_R = 9.182e-5 # radiation component of energy density\n",
    "omega_M = 0.3111 # matter component of energy density\n",
    "omega_k = 0 # spacetime curvature component of energy density\n",
    "omega_lambda = 0.6889 # dark energy component of energy density, cosmological constant\n",
    "\n",
    "# Create injections\n",
    "T_obs = (1/365.25/24) # in yrs\n",
    "duration = T_obs*60*60*24*365.25 # Duration of each segment of data [s]\n",
    "N_segs = 1 # number of data segments to generate\n",
    "sampling_frequency = 1024 # Hz\n",
    "\n",
    "priors = bilby.gw.prior.BBHPriorDict(aligned_spin=True)\n",
    "# priors['mass_1'] = bilby.core.prior.LogUniform(5,50)\n",
    "# priors['mass_2'] = bilby.core.prior.Uniform(5,50)\n",
    "priors['mass_1'] = bilby.core.prior.PowerLaw(alpha=-2.3, minimum=5, maximum=50)\n",
    "priors['mass_ratio'] = bilby.core.prior.PowerLaw(alpha=1.5, minimum=0, maximum=1)\n",
    "priors['theta_jn'] = bilby.core.prior.Uniform(0, 2*np.pi, name='theta_jn')\n",
    "priors['chi_1'] = 0\n",
    "priors['chi_2'] = 0\n",
    "priors['redshift'] = PowerLawRedshiftPrior(R0=R0, alpha=alpha, beta=beta, zp=z_p, name='redshift', minimum=0, maximum=10)\n",
    "\n",
    "# Calculate number of injections    \n",
    "zs, p_dz = priors['redshift']._get_redshift_arrays()\n",
    "p_dz_centers = (p_dz[1:] + p_dz[:-1])/2.\n",
    "total_sum = np.sum(np.diff(zs) * p_dz_centers)\n",
    "N = T_obs * total_sum\n",
    "N_inj = np.random.poisson(N.value)\n",
    "injections = priors.sample(N_inj)\n",
    "\n",
    "# events = injections['chirp_mass']\n",
    "mass_2 = []\n",
    "Mtots = []\n",
    "events = []\n",
    "for i in range(len(injections['mass_1'])):\n",
    "    mass_2.append(injections['mass_1'][i]*injections['mass_ratio'][i])\n",
    "    Mtots.append(injections['mass_1'][i]+mass_2[i])\n",
    "    events.append(((injections['mass_1'][i]*mass_2[i])**(3/5))/((injections['mass_1'][i]+mass_2[i])**(1/5)))\n",
    "#     Mtots.append(injections['mass_1'][i]+injections['mass_2'][i])\n",
    "\n",
    "frequencies = []\n",
    "omega_GW_values = []\n",
    "\n",
    "for i in range(1,sampling_frequency):\n",
    "    f = i # frequency (in Hz)\n",
    "    \n",
    "    # Equation from Renzini et al. 2022.\n",
    "    # Calculate the GW energy density by summing the spectral energy density from individual BBH events across redshift space.\n",
    "    def integrand(z):\n",
    "        f_ref = f*(1+z)\n",
    "        return ((R(alpha, beta, z, z_p, R0)/((1+z)*Hubble_rate(z, H0, omega_R, omega_M, omega_k, omega_lambda)))*ave_dE_df(f_ref, Mtots, events))\n",
    "\n",
    "    integral = scipy.integrate.quad(integrand, 0, z_max)\n",
    "    omega_GW = ((f/p_c(H0))*integral[0]*386412.809777)\n",
    "    frequencies.append(f)\n",
    "    omega_GW_values.append(omega_GW)"
   ]
  },
  {
   "cell_type": "code",
   "execution_count": 18,
   "id": "8e56142d",
   "metadata": {
    "scrolled": false
   },
   "outputs": [
    {
     "name": "stderr",
     "output_type": "stream",
     "text": [
      "/var/folders/ll/kr0d3dk97nscjzcx85rrjmz00000gn/T/ipykernel_34719/4069751248.py:7: UserWarning: Matplotlib is currently using module://matplotlib_inline.backend_inline, which is a non-GUI backend, so cannot show the figure.\n",
      "  fig.show()\n"
     ]
    },
    {
     "data": {
      "image/png": "[encoded data removed]",
      "text/plain": [
       "<Figure size 1687.5x1000 with 1 Axes>"
      ]
     },
     "metadata": {},
     "output_type": "display_data"
    }
   ],
   "source": [
    "fig, ax = plt.subplots()\n",
    "ax.set_title(r'GW Energy Density Spectrum (Combined Method)')\n",
    "ax.set_xlabel(r'Frequency (Hz)')\n",
    "ax.set_ylabel(r'$\\Omega_{GW}(f)$')\n",
    "ax.loglog(frequencies, omega_GW_values, color='#25cc33')\n",
    "ax.set_xlim(10,1000)\n",
    "fig.show()"
   ]
  }
 ],
 "metadata": {
  "kernelspec": {
   "display_name": "Python (igwn-py39-lw)",
   "language": "python",
   "name": "igwn-py39-lw"
  },
  "language_info": {
   "codemirror_mode": {
    "name": "ipython",
    "version": 3
   },
   "file_extension": ".py",
   "mimetype": "text/x-python",
   "name": "python",
   "nbconvert_exporter": "python",
   "pygments_lexer": "ipython3",
   "version": "3.9.16"
  }
 },
 "nbformat": 4,
 "nbformat_minor": 5
}
