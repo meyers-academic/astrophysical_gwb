{
 "cells": [
  {
   "cell_type": "code",
   "execution_count": 1,
   "id": "c12f6b8d",
   "metadata": {},
   "outputs": [],
   "source": [
    "# Imports\n",
    "%load_ext autoreload\n",
    "%autoreload 2\n",
    "\n",
    "import matplotlib \n",
    "import matplotlib.pyplot as plt\n",
    "import numpy as np\n",
    "import scipy\n",
    "from tqdm import tqdm\n",
    "import sys\n",
    "\n",
    "import bilby\n",
    "\n",
    "# Add module\n",
    "sys.path.append('../../modules')\n",
    "from compute_omega import sample_dict_compute_injected_omega\n",
    "from gwBackground_module import *\n",
    "\n",
    "from constants import *\n",
    "import equations\n",
    "import redshiftPrior"
   ]
  },
  {
   "cell_type": "code",
   "execution_count": 3,
   "id": "40d78a96-07be-4b85-a35a-595915675ef1",
   "metadata": {},
   "outputs": [],
   "source": [
    "from numba import jit"
   ]
  },
  {
   "cell_type": "code",
   "execution_count": 4,
   "id": "b2458dea",
   "metadata": {},
   "outputs": [],
   "source": [
    "# Plot formatting\n",
    "matplotlib.rcParams.update(matplotlib.rcParamsDefault)\n",
    "fontsize = 24\n",
    "params = {\n",
    "   'axes.labelsize': fontsize,\n",
    "   'font.size': fontsize,\n",
    "   'legend.fontsize': 8,\n",
    "   'xtick.labelsize': fontsize,\n",
    "   'ytick.labelsize': fontsize,\n",
    "   'axes.titlesize':fontsize,\n",
    "   'lines.linewidth':1,  \n",
    "   'xtick.direction':'in',\n",
    "   'ytick.direction':'in',\n",
    "   'font.family':'Serif',\n",
    "   'font.serif':'Hoefler Text',\n",
    "   'axes.grid':True,\n",
    "   'figure.figsize': (6.75, 4),\n",
    "   'figure.dpi':250,\n",
    "   'mathtext.fontset':'cm'\n",
    "}\n",
    "\n",
    "for param in params.keys():\n",
    "    matplotlib.rcParams[param] = params[param]  "
   ]
  },
  {
   "cell_type": "code",
   "execution_count": 11,
   "id": "652e4cb4",
   "metadata": {},
   "outputs": [],
   "source": [
    "# Constants\n",
    "# Mass Parameters\n",
    "BBH_min = 5 # minimum BBH mass\n",
    "BBH_max = 44 # maximum BBH mass\n",
    "\n",
    "# Frequency Parameters\n",
    "fmax = 3000\n",
    "fref = 25\n",
    "\n",
    "# Data Simulation Parameters\n",
    "T_obs = 0.1 # observation time (in yrs)\n",
    "duration = T_obs*60*60*24*365.25 # duration of each segment of data (in s)\n",
    "N_segs = 1 # number of data segments to generate\n",
    "sampling_frequency = 1024 # sampling rate (in Hz)\n",
    "num_iterations = 12 # number of iterations to average Omega(f) over"
   ]
  },
  {
   "cell_type": "code",
   "execution_count": 6,
   "id": "ad26f8b2",
   "metadata": {},
   "outputs": [
    {
     "name": "stderr",
     "output_type": "stream",
     "text": [
      "14:42 bilby INFO    : Using aligned spin prior\n",
      "14:42 bilby INFO    : No prior given, using default BBH priors in /Users/patrickmeyers/opt/anaconda3/envs/gw_general/lib/python3.9/site-packages/bilby/gw/prior_files/aligned_spins_bbh.prior.\n"
     ]
    }
   ],
   "source": [
    "# Prior dictionary for priors we *want*\n",
    "priors = bilby.gw.prior.BBHPriorDict(aligned_spin=True)\n",
    "priors['mass_1'] = bilby.core.prior.PowerLaw(alpha=-2.3, minimum=BBH_min, maximum=BBH_max)\n",
    "priors['mass_ratio'] = bilby.core.prior.PowerLaw(alpha=1.5, minimum=0, maximum=1)\n",
    "priors['theta_jn'] = bilby.core.prior.Uniform(minimum=0, maximum=2*np.pi, name='theta_jn')\n",
    "priors['chi_1'] = 0\n",
    "priors['chi_2'] = 0\n",
    "priors['redshift'] = redshiftPrior.BrokenPowerLawRedshiftPrior(R0=R0, alpha=alpha, beta=beta, zp=zp, minimum=0, maximum=z_max, name='redshift')\n",
    "priors['geocent_time'] = bilby.core.prior.Uniform(minimum=0, maximum=T_obs, name='geocent_time')\n",
    "del priors['luminosity_distance']\n",
    "del priors['chirp_mass']"
   ]
  },
  {
   "cell_type": "code",
   "execution_count": 7,
   "id": "1161e793-4c0a-4d91-9695-197bb8b19269",
   "metadata": {},
   "outputs": [
    {
     "name": "stderr",
     "output_type": "stream",
     "text": [
      "14:42 bilby INFO    : No prior given, using default BBH priors in /Users/patrickmeyers/opt/anaconda3/envs/gw_general/lib/python3.9/site-packages/bilby/gw/prior_files/precessing_spins_bbh.prior.\n"
     ]
    }
   ],
   "source": [
    "priors_new = bilby.gw.prior.BBHPriorDict(aligned_spin=False)"
   ]
  },
  {
   "cell_type": "code",
   "execution_count": 8,
   "id": "7c745f71",
   "metadata": {},
   "outputs": [
    {
     "name": "stdout",
     "output_type": "stream",
     "text": [
      "24046.357826358675 1 / yr\n"
     ]
    }
   ],
   "source": [
    "# Calculate number of injections\n",
    "\n",
    "\n",
    "def calculate_total_rate(priors):\n",
    "    zs, p_dz = priors['redshift']._get_redshift_arrays()\n",
    "    p_dz_centers = (p_dz[1:] + p_dz[:-1])/2.\n",
    "    total_sum = np.sum(np.diff(zs) * p_dz_centers)\n",
    "    return total_sum\n",
    "\n",
    "def calculate_expected_num_events(T_obs, priors):\n",
    "    '''\n",
    "    T_obs : float\n",
    "        observation time (in seconds)\n",
    "    priors: bilby.core.prior.PriorDict\n",
    "        bilby prior dictionary\n",
    "\n",
    "    Returns:\n",
    "    --------\n",
    "    N : float\n",
    "        Expected number of events in that time\n",
    "    '''\n",
    "    rate = calculate_total_rate(priors)\n",
    "    return T_obs * rate\n",
    "    \n",
    "\n",
    "zs, p_dz = priors['redshift']._get_redshift_arrays()\n",
    "N = calculate_expected_num_events(T_obs, priors)\n",
    "print(N)"
   ]
  },
  {
   "cell_type": "code",
   "execution_count": 27,
   "id": "9f692e13-3ed0-4168-a4a9-ce1bbf4c5cdf",
   "metadata": {},
   "outputs": [
    {
     "name": "stderr",
     "output_type": "stream",
     "text": [
      "14:47 bilby INFO    : Using aligned spin prior\n",
      "14:47 bilby INFO    : No prior given, using default BBH priors in /Users/patrickmeyers/opt/anaconda3/envs/gw_general/lib/python3.9/site-packages/bilby/gw/prior_files/aligned_spins_bbh.prior.\n"
     ]
    }
   ],
   "source": [
    "# \"reference\" prior dictionary\n",
    "uniform_priors = bilby.gw.prior.BBHPriorDict(aligned_spin=True)\n",
    "# uniform_priors['mass_1'] = bilby.core.prior.PowerLaw(alpha=-2.3, minimum=BBH_min, maximum=BBH_max)\n",
    "uniform_priors['mass_1'] = bilby.core.prior.Uniform(minimum=BBH_min, maximum=BBH_max)\n",
    "uniform_priors['mass_ratio'] = bilby.core.prior.Uniform(minimum=0, maximum=1)\n",
    "uniform_priors['theta_jn'] = bilby.core.prior.Uniform(minimum=0, maximum=2*np.pi, name='theta_jn')\n",
    "uniform_priors['chi_1'] = 0\n",
    "uniform_priors['chi_2'] = 0\n",
    "uniform_priors['redshift'] = redshiftPrior.BrokenPowerLawRedshiftPrior(R0=R0, alpha=alpha, beta=beta, zp=zp,\n",
    "                                                                       minimum=0, maximum=z_max, name='redshift')\n",
    "uniform_priors['geocent_time'] = bilby.core.prior.Uniform(minimum=0, maximum=T_obs, name='geocent_time')\n",
    "del uniform_priors['luminosity_distance']\n",
    "del uniform_priors['chirp_mass']"
   ]
  },
  {
   "cell_type": "code",
   "execution_count": 37,
   "id": "8cac31f1-7785-49bb-bc9a-31a86f7900b2",
   "metadata": {},
   "outputs": [
    {
     "name": "stderr",
     "output_type": "stream",
     "text": [
      "14:49 bilby INFO    : Waveform generator initiated with\n",
      "  frequency_domain_source_model: bilby.gw.source.lal_binary_black_hole\n",
      "  time_domain_source_model: None\n",
      "  parameter_conversion: bilby.gw.conversion.convert_to_lal_binary_black_hole_parameters\n",
      "100%|███████████████████████████████████████████████| 100000/100000 [00:37<00:00, 2649.71it/s]\n"
     ]
    }
   ],
   "source": [
    "# Draw samples\n",
    "N_inj = 100_000 # np.random.poisson(N.value)\n",
    "injections = uniform_priors.sample(N_inj)\n",
    "\n",
    "m1s = injections['mass_1']\n",
    "qs = injections['mass_ratio']\n",
    "zs = injections['redshift']\n",
    "m2s = []\n",
    "Mtots = [] # m1 + m2\n",
    "Ms = [] # chirp masses\n",
    "for i in range(len(injections['mass_1'])):\n",
    "    m2s.append(equations.calculate_m2(m1s[i], qs[i]))\n",
    "    Mtots.append(equations.calculate_Mtot(m1s[i], m2s[i]))\n",
    "    Ms.append(equations.calculate_M(m1s[i], m2s[i]))\n",
    "\n",
    "# Set up waveform generator\n",
    "# Waveform generator parameters\n",
    "sampling_frequency=sampling_frequency\n",
    "approximant='IMRPhenomD'\n",
    "\n",
    "# Initialize waveform generator\n",
    "waveform_generator = bilby.gw.WaveformGenerator(\n",
    "    duration=2,\n",
    "    sampling_frequency=sampling_frequency,\n",
    "    frequency_domain_source_model=bilby.gw.source.lal_binary_black_hole,\n",
    "    parameter_conversion=bilby.gw.conversion.convert_to_lal_binary_black_hole_parameters,\n",
    "    waveform_arguments={\n",
    "        \"waveform_approximant\": 'IMRPhenomD',\n",
    "        \"reference_frequency\": 50,\n",
    "        \"minimum_frequency\": 1\n",
    "    }\n",
    ")\n",
    "\n",
    "# Calculate non-weighted dEdf from uniform distributions\n",
    "freqs_W = waveform_generator.frequency_array\n",
    "OmegaGW_W = np.zeros(len(freqs_W))\n",
    "\n",
    "dEdfs = []\n",
    "for i in tqdm(range(N_inj)):\n",
    "    inj_params = {}\n",
    "    # Generate the individual parameters dictionary for each injection\n",
    "    for k in injections.keys():\n",
    "        if k == 'signal_type':\n",
    "            continue\n",
    "        try:\n",
    "            inj_params[k] = injections[k]['content'][i]\n",
    "        except:\n",
    "            inj_params[k] = injections[k][i]\n",
    "\n",
    "    # Get frequency domain waveform\n",
    "    polarizations = waveform_generator.frequency_domain_strain(inj_params)\n",
    "\n",
    "    # Final PSD of the injection\n",
    "    dEdf = np.abs(polarizations['plus']) ** 2 + np.abs(polarizations['cross']) ** 2\n",
    "    dEdfs.append(dEdf)\n"
   ]
  },
  {
   "cell_type": "code",
   "execution_count": 38,
   "id": "85ebd488-f448-4449-927c-f72e1db5fafd",
   "metadata": {},
   "outputs": [
    {
     "name": "stdout",
     "output_type": "stream",
     "text": [
      "CPU times: user 186 ms, sys: 210 ms, total: 396 ms\n",
      "Wall time: 397 ms\n"
     ]
    }
   ],
   "source": [
    "%%time\n",
    "# Calculate Omega(f)\n",
    "dEdfs = np.array(dEdfs)\n",
    "\n",
    "\n",
    "# @jit\n",
    "def get_weights(dEdfs, zs, m1s, m2s, qs, Mtots, Ms):\n",
    "    weights = []\n",
    "    for i in range(N_inj):\n",
    "        z = zs[i]\n",
    "        m1 = m1s[i]\n",
    "        m2 = m2s[i]\n",
    "        q = qs[i]\n",
    "        Mtot = Mtots[i]\n",
    "        M = Ms[i]\n",
    "\n",
    "        # Probability of drawing {z, m1, m2}\n",
    "        p_z = priors['redshift'].prob(z)\n",
    "        p_m1 = priors['mass_1'].prob(m1)\n",
    "        p_q = priors['mass_ratio'].prob(q)\n",
    "\n",
    "        pdraw_z = uniform_priors['redshift'].prob(z)\n",
    "        pdraw_m1 = uniform_priors['mass_1'].prob(m1)\n",
    "        pdraw_q = uniform_priors['mass_ratio'].prob(q)\n",
    "\n",
    "        # # Weight calculation\n",
    "        # r = equations.R_SI(alpha, beta, z, zp, R0)\n",
    "        # h = equations.Hubble_rate_SI(z, H0, omegaR, omegaM, omegak, omegaL)\n",
    "        h0 = equations.Hubble_rate_SI(0, H0, omegaR, omegaM, omegak, omegaL)\n",
    "\n",
    "        wi = (p_z/pdraw_z) * (p_m1/pdraw_m1) * (p_q/pdraw_q)\n",
    "        weights.append(wi)\n",
    "    return np.array(weights)\n",
    "\n",
    "    # Add to Omega_spectrum\n",
    "    # OmegaGW_W += 2 * np.pi**2 * freqs_W**3 * dEdf / (3 * h0**2)\n",
    "    "
   ]
  },
  {
   "cell_type": "code",
   "execution_count": 39,
   "id": "858c9abe-ab8f-4117-ae8f-f307fe229b5a",
   "metadata": {},
   "outputs": [],
   "source": [
    "# %%time\n",
    "weights = get_weights(dEdfs, zs, m1s, m2s, qs, Mtots, Ms)\n",
    "h0 = equations.Hubble_rate_SI(0, H0, omegaR, omegaM, omegak, omegaL)"
   ]
  },
  {
   "cell_type": "code",
   "execution_count": 40,
   "id": "f82a4486-dc72-4426-a9c6-24162d255b76",
   "metadata": {},
   "outputs": [],
   "source": [
    "\n",
    "dEdf_sum = dEdfs.T @ weights\n",
    "total_rate = calculate_total_rate(priors).value / (86400 * 365.25) # in units of [events s^{-1}]\n",
    "OmegaGW_W = 2 * np.pi**2 * freqs_W**3 * dEdf_sum / (3 * h0**2)\n",
    "Tobs_seconds = T_obs * 86400 * 365.25  # years to seconds\n",
    "OmegaGW_W *= 2 * total_rate / N_inj"
   ]
  },
  {
   "cell_type": "code",
   "execution_count": 41,
   "id": "f259902c",
   "metadata": {
    "tags": []
   },
   "outputs": [
    {
     "name": "stderr",
     "output_type": "stream",
     "text": [
      "2024-01-08 14:49:54.752 | INFO     | compute_omega:draw_injections:65 - We are averaging over 24046.357826358675 1 / yr waveforms for 0.1 years\n",
      "14:49 bilby INFO    : Waveform generator initiated with\n",
      "  frequency_domain_source_model: bilby.gw.source.lal_binary_black_hole\n",
      "  time_domain_source_model: None\n",
      "  parameter_conversion: bilby.gw.conversion.convert_to_lal_binary_black_hole_parameters\n",
      "2024-01-08 14:49:55.504 | INFO     | compute_omega:sample_dict_compute_injected_omega:106 - Compute the total injected Omega for 24082 injections\n",
      "100%|█████████████████████████████████████████████████| 24082/24082 [00:10<00:00, 2281.44it/s]\n"
     ]
    }
   ],
   "source": [
    "fs = []\n",
    "omgws = []\n",
    "for ii in range(1):\n",
    "    freqs_psd, omega_gw_freq, injections = sample_dict_compute_injected_omega(priors, Tobs=T_obs, duration=2,\n",
    "                                                                              f_ref=25, sampling_frequency=sampling_frequency,\n",
    "                                       approximant='IMRPhenomD')\n",
    "    fs.append(freqs_psd)\n",
    "    omgws.append(omega_gw_freq)"
   ]
  },
  {
   "cell_type": "code",
   "execution_count": 42,
   "id": "3a8e5b63",
   "metadata": {},
   "outputs": [
    {
     "name": "stderr",
     "output_type": "stream",
     "text": [
      "/var/folders/pw/q58shg_d4vz37qn56ds0zjm40000gn/T/ipykernel_21256/2630508803.py:12: RuntimeWarning: invalid value encountered in divide\n",
      "  plt.plot(OmegaGW_W / omega_gw_freq )\n"
     ]
    },
    {
     "data": {
      "image/png": "[encoded data removed]",
      "text/plain": [
       "<Figure size 864x432 with 1 Axes>"
      ]
     },
     "metadata": {
      "needs_background": "light"
     },
     "output_type": "display_data"
    },
    {
     "data": {
      "image/png": "[encoded data removed]",
      "text/plain": [
       "<Figure size 432x288 with 1 Axes>"
      ]
     },
     "metadata": {
      "needs_background": "light"
     },
     "output_type": "display_data"
    }
   ],
   "source": [
    "%matplotlib inline\n",
    "fig, ax = plt.subplots(figsize=(12, 6))\n",
    "ax.loglog(freqs_W, OmegaGW_W, color='#bc85ff', label='weighted', lw=3)\n",
    "for ii in range(1):\n",
    "    ax.loglog(fs[ii], omgws[ii], color='#000000', alpha=1)#, label='exact', alpha=0.1)\n",
    "ax.set_title(r'GW Energy Density Spectrum (Weighted Method)')\n",
    "ax.set_xlabel(r'Frequency (Hz)')\n",
    "ax.set_ylabel(r'$\\Omega_{GW}(f)$')\n",
    "ax.set_xlim(10, 4096)\n",
    "ax.legend()\n",
    "plt.figure()\n",
    "plt.plot(OmegaGW_W / omega_gw_freq )\n",
    "plt.show()"
   ]
  },
  {
   "cell_type": "code",
   "execution_count": null,
   "id": "3ae34d82-0ef8-45a0-88dc-f318b7b3f7c3",
   "metadata": {},
   "outputs": [],
   "source": [
    "print(\"hi\")"
   ]
  },
  {
   "cell_type": "code",
   "execution_count": null,
   "id": "75b9c5dd-0669-4513-b981-05e716453f4e",
   "metadata": {},
   "outputs": [],
   "source": [
    "omgws = np.array(omgws)"
   ]
  },
  {
   "cell_type": "code",
   "execution_count": null,
   "id": "003b3396-c4a3-49f1-abf7-9040e69f8ca8",
   "metadata": {},
   "outputs": [],
   "source": [
    "omgws.shape"
   ]
  },
  {
   "cell_type": "code",
   "execution_count": null,
   "id": "02d398b8-b94f-4309-8102-65907c6d433a",
   "metadata": {},
   "outputs": [],
   "source": [
    "plt.hist(np.log10(omgws[:, 100]), bins=20)\n",
    "ax = plt.gca()\n",
    "ax.axvline(np.log10(OmegaGW_W[100]), c='#bc85ff', lw=3)\n",
    "ax.axvline(np.mean((np.log10(omgws[:, 100]))), c='k', ls='--', lw=3)\n",
    "plt.show()"
   ]
  },
  {
   "cell_type": "code",
   "execution_count": null,
   "id": "09f74ce9-799a-4859-9e13-03c7a696cff9",
   "metadata": {},
   "outputs": [],
   "source": [
    "np.mean(OmegaGW_W[100] / omgws[:, 100])"
   ]
  },
  {
   "cell_type": "code",
   "execution_count": null,
   "id": "99533ac5",
   "metadata": {},
   "outputs": [],
   "source": [
    "np.nanmean((OmegaGW_W / omega_gw_freq)[:1000])"
   ]
  },
  {
   "cell_type": "markdown",
   "id": "77094330",
   "metadata": {},
   "source": []
  },
  {
   "cell_type": "code",
   "execution_count": null,
   "id": "a3c8e713",
   "metadata": {},
   "outputs": [],
   "source": [
    "# fig, ax = plt.subplots()\n",
    "# ax.loglog(freqs_d, omega_gw_d, color='#d61c1c', label='Regimbau Method')\n",
    "# ax.loglog(freqs_TC, OmegaGW_TC, color='#7dd4fa', label='Callister Method')\n",
    "# ax.loglog(total_freqs_CB, total_OmegaGW_CB, color='#25cc33', label='Combined Method')\n",
    "# ax.loglog(freqs_tf2, omega_gw_tf2, label='2/3 Power Law (Regimbau)', color='#991414')\n",
    "# ax.loglog(freqs_TC, Omega_ref_TC*(freqs_TC/fref)**(2/3), label='2/3 Power Law (Callister)', color='#1f769c')\n",
    "# ax.loglog(freqs_CB, Omega_ref_CB*(np.array(freqs_CB)/fref)**(2/3), label='2/3 Power Law (Combined)', color='#14751c')\n",
    "# ax.set_title(r'GW Energy Density Spectrum')\n",
    "# ax.set_xlabel(r'Frequency (Hz)')\n",
    "# ax.set_ylabel(r'$\\Omega_{GW}(f)$')\n",
    "# ax.set_xlim(10, 1000)\n",
    "# ax.legend()\n",
    "# fig.show()"
   ]
  }
 ],
 "metadata": {
  "kernelspec": {
   "display_name": "Python [conda env:gw_general] *",
   "language": "python",
   "name": "conda-env-gw_general-py"
  },
  "language_info": {
   "codemirror_mode": {
    "name": "ipython",
    "version": 3
   },
   "file_extension": ".py",
   "mimetype": "text/x-python",
   "name": "python",
   "nbconvert_exporter": "python",
   "pygments_lexer": "ipython3",
   "version": "3.9.7"
  }
 },
 "nbformat": 4,
 "nbformat_minor": 5
}
