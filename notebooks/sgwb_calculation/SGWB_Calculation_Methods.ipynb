{
 "cells": [
  {
   "cell_type": "code",
   "execution_count": 1,
   "id": "c12f6b8d",
   "metadata": {},
   "outputs": [],
   "source": [
    "# Imports\n",
    "%load_ext autoreload\n",
    "%autoreload 2\n",
    "\n",
    "import matplotlib \n",
    "import matplotlib.pyplot as plt\n",
    "import numpy as np\n",
    "import scipy\n",
    "from tqdm import tqdm\n",
    "import sys\n",
    "\n",
    "import bilby\n",
    "\n",
    "# Add module\n",
    "sys.path.append('../../modules')\n",
    "from compute_omega import sample_dict_compute_injected_omega, calculate_num_injections, calculate_total_rate\n",
    "from gwBackground_module import *\n",
    "\n",
    "from constants import *\n",
    "import equations\n",
    "import redshiftPrior"
   ]
  },
  {
   "cell_type": "code",
   "execution_count": 2,
   "id": "b2458dea",
   "metadata": {},
   "outputs": [],
   "source": [
    "# Plot formatting\n",
    "matplotlib.rcParams.update(matplotlib.rcParamsDefault)\n",
    "fontsize = 24\n",
    "params = {\n",
    "   'axes.labelsize': fontsize,\n",
    "   'font.size': fontsize,\n",
    "   'legend.fontsize': 8,\n",
    "   'xtick.labelsize': fontsize,\n",
    "   'ytick.labelsize': fontsize,\n",
    "   'axes.titlesize':fontsize,\n",
    "   'lines.linewidth':1,  \n",
    "   'xtick.direction':'in',\n",
    "   'ytick.direction':'in',\n",
    "   'font.family':'Serif',\n",
    "   'font.serif':'Hoefler Text',\n",
    "   'axes.grid':True,\n",
    "   'figure.figsize': (6.75, 4),\n",
    "   'figure.dpi':250,\n",
    "   'mathtext.fontset':'cm'\n",
    "}\n",
    "\n",
    "for param in params.keys():\n",
    "    matplotlib.rcParams[param] = params[param]  "
   ]
  },
  {
   "cell_type": "code",
   "execution_count": 1,
   "id": "c3eb3df8",
   "metadata": {},
   "outputs": [],
   "source": [
    "# Constants\n",
    "# Mass Parameters\n",
    "BBH_min = 5 # minimum BBH mass\n",
    "BBH_max = 44 # maximum BBH mass\n",
    "\n",
    "# Data Simulation Parameters\n",
    "T_obs = (10/365.25) # observation time (in yrs)\n",
    "duration = T_obs*60*60*24*365.25 # duration of each segment of data (in s)\n",
    "fs = 2048 # sampling rate (in Hz)\n",
    "\n",
    "num_iterations = 50"
   ]
  },
  {
   "cell_type": "code",
   "execution_count": 4,
   "id": "ad26f8b2",
   "metadata": {},
   "outputs": [
    {
     "name": "stderr",
     "output_type": "stream",
     "text": [
      "16:06 bilby INFO    : Using aligned spin prior\n",
      "16:06 bilby INFO    : No prior given, using default BBH priors in /Users/patrickmeyers/opt/anaconda3/envs/gw_general/lib/python3.9/site-packages/bilby/gw/prior_files/aligned_spins_bbh.prior.\n"
     ]
    }
   ],
   "source": [
    "# Standard Prior Dictionary\n",
    "priors = bilby.gw.prior.BBHPriorDict(aligned_spin=True)\n",
    "priors['mass_1'] = bilby.core.prior.PowerLaw(alpha=-2.3, minimum=BBH_min, maximum=BBH_max)\n",
    "priors['mass_ratio'] = bilby.core.prior.PowerLaw(alpha=1.5, minimum=0, maximum=1)\n",
    "priors['theta_jn'] = bilby.core.prior.Uniform(minimum=0, maximum=2*np.pi, name='theta_jn')\n",
    "priors['chi_1'] = 0\n",
    "priors['chi_2'] = 0\n",
    "priors['redshift'] = redshiftPrior.BrokenPowerLawRedshiftPrior(R0=R0, alpha=alpha, beta=beta, zp=zp, minimum=0, maximum=z_max, name='redshift')\n",
    "priors['geocent_time'] = bilby.core.prior.Uniform(minimum=0, maximum=T_obs, name='geocent_time')\n",
    "del priors['luminosity_distance']\n",
    "del priors['chirp_mass']"
   ]
  },
  {
   "cell_type": "code",
   "execution_count": 5,
   "id": "6a50206a",
   "metadata": {},
   "outputs": [
    {
     "name": "stderr",
     "output_type": "stream",
     "text": [
      "16:06 bilby INFO    : Using aligned spin prior\n",
      "16:06 bilby INFO    : No prior given, using default BBH priors in /Users/patrickmeyers/opt/anaconda3/envs/gw_general/lib/python3.9/site-packages/bilby/gw/prior_files/aligned_spins_bbh.prior.\n"
     ]
    },
    {
     "name": "stdout",
     "output_type": "stream",
     "text": [
      "240463.57826358674 1 / yr\n",
      "120491\n"
     ]
    },
    {
     "name": "stderr",
     "output_type": "stream",
     "text": [
      "16:06 bilby INFO    : Waveform generator initiated with\n",
      "  frequency_domain_source_model: bilby.gw.source.lal_binary_black_hole\n",
      "  time_domain_source_model: None\n",
      "  parameter_conversion: bilby.gw.conversion.convert_to_lal_binary_black_hole_parameters\n"
     ]
    },
    {
     "name": "stdout",
     "output_type": "stream",
     "text": [
      "499014583071231.4 yr\n"
     ]
    },
    {
     "name": "stderr",
     "output_type": "stream",
     "text": [
      "100%|███████████████████████████████████████████████████████████| 120491/120491 [00:26<00:00, 4561.17it/s]\n"
     ]
    }
   ],
   "source": [
    "# Weighted Method (Waveform Generator)\n",
    "# Uniform Prior Dictionary\n",
    "uniform_priors = bilby.gw.prior.BBHPriorDict(aligned_spin=True)\n",
    "del uniform_priors['chirp_mass']\n",
    "del uniform_priors['luminosity_distance']\n",
    "uniform_priors['mass_1'] = bilby.core.prior.Uniform(minimum=BBH_min, maximum=BBH_max, name='mass_1_uniform')\n",
    "uniform_priors['mass_ratio'] = bilby.core.prior.Uniform(minimum=0, maximum=1, name='mass_ratio_uniform')\n",
    "# uniform_priors['redshift'] = bilby.gw.prior.UniformComovingVolume(0, z_max, name='redshift')\n",
    "uniform_priors['redshift'] = redshiftPrior.BrokenPowerLawRedshiftPrior(R0=R0, alpha=alpha, beta=beta, zp=zp, minimum=0, maximum=z_max, name='redshift')\n",
    "uniform_priors['chi_1'] = 0\n",
    "uniform_priors['chi_2'] = 0\n",
    "\n",
    "# Draw samples\n",
    "\n",
    "\n",
    "\n",
    "zs, p_dz = uniform_priors['redshift']._get_redshift_arrays()\n",
    "unif_rate = calculate_total_rate(zs, p_dz) # yr^-1\n",
    "print(unif_rate)\n",
    "unif_rate = unif_rate / (86400 * 365.25)**2\n",
    "\n",
    "N = calculate_num_injections(T_obs, zs, p_dz).value\n",
    "N_inj = np.random.poisson(N)\n",
    "print(N_inj)\n",
    "# N_inj = 200_000\n",
    "\n",
    "injections = uniform_priors.sample(N_inj)\n",
    "\n",
    "\n",
    "\n",
    "# get Tobs needed to get 100_000 injections at the rate\n",
    "# from above.\n",
    "Tobs_fake = N_inj / unif_rate\n",
    "# Tobs_fake = T_obs * 86400 * 365.25\n",
    "print(Tobs_fake)\n",
    "\n",
    "m1s = injections['mass_1']\n",
    "qs = injections['mass_ratio']\n",
    "zs = injections['redshift']\n",
    "m2s = []\n",
    "Mtots = [] # m1 + m2\n",
    "Ms = [] # chirp masses\n",
    "for i in range(len(injections['mass_1'])):\n",
    "    m2s.append(equations.calculate_m2(m1s[i], qs[i]))\n",
    "    Mtots.append(equations.calculate_Mtot(m1s[i], m2s[i]))\n",
    "    Ms.append(equations.calculate_M(m1s[i], m2s[i]))\n",
    "\n",
    "# Set up waveform generator\n",
    "# Waveform generator parameters\n",
    "sampling_frequency=fs\n",
    "approximant='TaylorF2'\n",
    "\n",
    "# Initialize waveform generator\n",
    "waveform_generator = bilby.gw.WaveformGenerator(\n",
    "    duration=2,\n",
    "    sampling_frequency=sampling_frequency,\n",
    "    frequency_domain_source_model=bilby.gw.source.lal_binary_black_hole,\n",
    "    parameter_conversion=bilby.gw.conversion.convert_to_lal_binary_black_hole_parameters,\n",
    "    waveform_arguments={\n",
    "        \"waveform_approximant\": approximant,\n",
    "        \"reference_frequency\": 50,\n",
    "        \"minimum_frequency\": 1\n",
    "    }\n",
    ")\n",
    "\n",
    "# Calculate non-weighted dEdf from uniform distributions\n",
    "freqs_W = waveform_generator.frequency_array\n",
    "OmegaGW_W = np.zeros(len(freqs_W))\n",
    "\n",
    "dEdfs = []\n",
    "for i in tqdm(range(N_inj)):\n",
    "    inj_params = {}\n",
    "    # Generate the individual parameters dictionary for each injection\n",
    "    for k in injections.keys():\n",
    "        if k == 'signal_type':\n",
    "            continue\n",
    "        try:\n",
    "            inj_params[k] = injections[k]['content'][i]\n",
    "        except:\n",
    "            inj_params[k] = injections[k][i]\n",
    "\n",
    "    # Get frequency domain waveform\n",
    "    polarizations = waveform_generator.frequency_domain_strain(inj_params)\n",
    "\n",
    "    # Final PSD of the injection\n",
    "    dEdf = np.abs(polarizations['plus']) ** 2 + np.abs(polarizations['cross']) ** 2\n",
    "    dEdfs.append(dEdf / Tobs_fake)\n",
    "   "
   ]
  },
  {
   "cell_type": "code",
   "execution_count": 6,
   "id": "21ade09d",
   "metadata": {},
   "outputs": [
    {
     "name": "stdout",
     "output_type": "stream",
     "text": [
      "CPU times: user 1e+03 ns, sys: 1e+03 ns, total: 2 µs\n",
      "Wall time: 3.81 µs\n"
     ]
    }
   ],
   "source": [
    "%time\n",
    "# Calculate Omega(f)\n",
    "dEdf_sum = 0\n",
    "weights = []\n",
    "for i in range(N_inj):\n",
    "    z = zs[i]\n",
    "    m1 = m1s[i]\n",
    "    m2 = m2s[i]\n",
    "    q = qs[i]\n",
    "    Mtot = Mtots[i]\n",
    "    M = Ms[i]\n",
    "\n",
    "    # Probability of drawing {z, m1, m2}\n",
    "    p_z = priors['redshift'].prob(z)\n",
    "    p_m1 = priors['mass_1'].prob(m1)\n",
    "    p_q = priors['mass_ratio'].prob(q)\n",
    "\n",
    "    pdraw_z = uniform_priors['redshift'].prob(z)\n",
    "    pdraw_m1 = uniform_priors['mass_1'].prob(m1)\n",
    "    pdraw_q = uniform_priors['mass_ratio'].prob(q)\n",
    "\n",
    "    # # Weight calculation\n",
    "    # r = equations.R_SI(alpha, beta, z, zp, R0)\n",
    "    # h = equations.Hubble_rate_SI(z, H0, omegaR, omegaM, omegak, omegaL)\n",
    "    h0 = equations.Hubble_rate_SI(0, H0, omegaR, omegaM, omegak, omegaL)\n",
    "\n",
    "    wi = (p_z/pdraw_z) * (p_m1/pdraw_m1) * (p_q/pdraw_q)\n",
    "    weights.append(wi)\n",
    "    dEdf = wi*dEdfs[i]\n",
    "\n",
    "    dEdf_sum += dEdf\n",
    "    \n",
    "    # Add to Omega_spectrum\n",
    "    # OmegaGW_W += 2 * np.pi**2 * freqs_W**3 * dEdf / (3 * h0**2)\n",
    "OmegaGW_W = 2 * np.pi**2 * freqs_W**3 * dEdf_sum / (3 * h0**2)\n",
    "# Tobs_seconds = T_obs * 86400 * 365.25  # years to seconds\n",
    "OmegaGW_W *= 2"
   ]
  },
  {
   "cell_type": "code",
   "execution_count": 7,
   "id": "3a8e5b63",
   "metadata": {
    "tags": []
   },
   "outputs": [],
   "source": [
    "# omgws = []\n",
    "# for ii in range(200):\n",
    "#     freqs_psd, omega_gw_freq, injections = sample_dict_compute_injected_omega(priors, Tobs=T_obs, duration=2, f_ref=25, sampling_frequency=fs,\n",
    "#                                        approximant=approximant)\n",
    "#     omgws.append(omega_gw_freq)"
   ]
  },
  {
   "cell_type": "code",
   "execution_count": 8,
   "id": "3e9f589f",
   "metadata": {
    "tags": []
   },
   "outputs": [
    {
     "ename": "NameError",
     "evalue": "name 'freqs_psd' is not defined",
     "output_type": "error",
     "traceback": [
      "\u001b[0;31m---------------------------------------------------------------------------\u001b[0m",
      "\u001b[0;31mNameError\u001b[0m                                 Traceback (most recent call last)",
      "\u001b[0;32m/var/folders/pw/q58shg_d4vz37qn56ds0zjm40000gn/T/ipykernel_10614/1508523823.py\u001b[0m in \u001b[0;36m<module>\u001b[0;34m\u001b[0m\n\u001b[1;32m      1\u001b[0m \u001b[0;31m# fives, fifties, ninefives = np.percentile(omgws, [5, 50, 95], axis=0)\u001b[0m\u001b[0;34m\u001b[0m\u001b[0;34m\u001b[0m\u001b[0m\n\u001b[1;32m      2\u001b[0m \u001b[0mplt\u001b[0m\u001b[0;34m.\u001b[0m\u001b[0mfigure\u001b[0m\u001b[0;34m(\u001b[0m\u001b[0mfigsize\u001b[0m\u001b[0;34m=\u001b[0m\u001b[0;34m(\u001b[0m\u001b[0;36m12\u001b[0m\u001b[0;34m,\u001b[0m \u001b[0;36m6\u001b[0m\u001b[0;34m)\u001b[0m\u001b[0;34m)\u001b[0m\u001b[0;34m\u001b[0m\u001b[0;34m\u001b[0m\u001b[0m\n\u001b[0;32m----> 3\u001b[0;31m \u001b[0mplt\u001b[0m\u001b[0;34m.\u001b[0m\u001b[0mplot\u001b[0m\u001b[0;34m(\u001b[0m\u001b[0mfreqs_psd\u001b[0m\u001b[0;34m,\u001b[0m \u001b[0mOmegaGW_W\u001b[0m \u001b[0;34m*\u001b[0m \u001b[0;36m86400\u001b[0m \u001b[0;34m*\u001b[0m \u001b[0;36m365.25\u001b[0m\u001b[0;34m,\u001b[0m \u001b[0mc\u001b[0m\u001b[0;34m=\u001b[0m\u001b[0;34m'r'\u001b[0m\u001b[0;34m,\u001b[0m \u001b[0mlw\u001b[0m\u001b[0;34m=\u001b[0m\u001b[0;36m3\u001b[0m\u001b[0;34m)\u001b[0m\u001b[0;34m\u001b[0m\u001b[0;34m\u001b[0m\u001b[0m\n\u001b[0m\u001b[1;32m      4\u001b[0m \u001b[0;31m# plt.plot(freqs_psd, fifties, c='k', ls='--')\u001b[0m\u001b[0;34m\u001b[0m\u001b[0;34m\u001b[0m\u001b[0m\n\u001b[1;32m      5\u001b[0m \u001b[0mplt\u001b[0m\u001b[0;34m.\u001b[0m\u001b[0mfill_between\u001b[0m\u001b[0;34m(\u001b[0m\u001b[0mfreqs_psd\u001b[0m\u001b[0;34m,\u001b[0m \u001b[0mfives\u001b[0m\u001b[0;34m,\u001b[0m \u001b[0mninefives\u001b[0m\u001b[0;34m,\u001b[0m \u001b[0mfacecolor\u001b[0m\u001b[0;34m=\u001b[0m\u001b[0;34m'k'\u001b[0m\u001b[0;34m,\u001b[0m \u001b[0malpha\u001b[0m\u001b[0;34m=\u001b[0m\u001b[0;36m0.3\u001b[0m\u001b[0;34m)\u001b[0m\u001b[0;34m\u001b[0m\u001b[0;34m\u001b[0m\u001b[0m\n",
      "\u001b[0;31mNameError\u001b[0m: name 'freqs_psd' is not defined"
     ]
    }
   ],
   "source": [
    "# fives, fifties, ninefives = np.percentile(omgws, [5, 50, 95], axis=0)\n",
    "plt.figure(figsize=(12, 6))\n",
    "plt.plot(freqs_psd, OmegaGW_W * 86400 * 365.25, c='r', lw=3)\n",
    "# plt.plot(freqs_psd, fifties, c='k', ls='--')\n",
    "plt.fill_between(freqs_psd, fives, ninefives, facecolor='k', alpha=0.3)\n",
    "plt.xscale(\"log\")\n",
    "plt.yscale(\"log\")\n",
    "plt.show()"
   ]
  },
  {
   "cell_type": "code",
   "execution_count": null,
   "id": "41efc811-2250-4190-816b-7c7a306d530c",
   "metadata": {},
   "outputs": [],
   "source": [
    "plt.hist(np.array([omgws[ii][10] / (OmegaGW_W[10]) for ii in range(len(omgws))]), bins='auto')\n",
    "plt.show()"
   ]
  },
  {
   "cell_type": "code",
   "execution_count": null,
   "id": "85a05d2f-7185-42d0-a078-9ac87bec772f",
   "metadata": {},
   "outputs": [],
   "source": [
    "print(np.mean([omgws[ii][10] / (OmegaGW_W[10]) for ii in range(len(omgws))]))"
   ]
  }
 ],
 "metadata": {
  "kernelspec": {
   "display_name": "Python (igwn-py39-lw)",
   "language": "python",
   "name": "igwn-py39-lw"
  },
  "language_info": {
   "codemirror_mode": {
    "name": "ipython",
    "version": 3
   },
   "file_extension": ".py",
   "mimetype": "text/x-python",
   "name": "python",
   "nbconvert_exporter": "python",
   "pygments_lexer": "ipython3",
   "version": "3.9.16"
  }
 },
 "nbformat": 4,
 "nbformat_minor": 5
}
