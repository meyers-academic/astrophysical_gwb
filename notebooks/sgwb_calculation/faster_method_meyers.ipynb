{
 "cells": [
  {
   "cell_type": "code",
   "execution_count": 8,
   "id": "19b6bae1-e57f-4415-b6c1-5fc30de98085",
   "metadata": {},
   "outputs": [
    {
     "name": "stdout",
     "output_type": "stream",
     "text": [
      "The autoreload extension is already loaded. To reload it, use:\n",
      "  %reload_ext autoreload\n"
     ]
    }
   ],
   "source": [
    "# Imports\n",
    "%load_ext autoreload\n",
    "%autoreload 2\n",
    "\n",
    "import math\n",
    "import matplotlib \n",
    "import matplotlib.pyplot as plt\n",
    "import numpy as np\n",
    "import os\n",
    "import scipy\n",
    "from scipy.integrate import trapz\n",
    "from scipy.integrate import cumtrapz\n",
    "from scipy.special import erfinv\n",
    "from tqdm import tqdm\n",
    "import sys\n",
    "\n",
    "from astropy.coordinates import Distance\n",
    "import bilby\n",
    "from gwBackground import *\n",
    "from pygwb.detector import Interferometer\n",
    "from pygwb.network import Network\n",
    "from pygwb.parameters import Parameters\n",
    "from pygwb.baseline import Baseline\n",
    "\n",
    "from constants import *\n",
    "import equations\n",
    "import redshiftPrior\n",
    "\n",
    "# Add module\n",
    "\n",
    "sys.path.append('../../modules')\n",
    "from compute_omega_mcmc import compute_injected_omega"
   ]
  },
  {
   "cell_type": "code",
   "execution_count": 33,
   "id": "b3eb5593-e3e2-449c-b3c9-5e34a7677b88",
   "metadata": {},
   "outputs": [],
   "source": [
    "# Constants\n",
    "# Mass Parameters\n",
    "BBH_min = 5 # minimum BBH mass\n",
    "BBH_max = 44 # maximum BBH mass\n",
    "\n",
    "# Frequency Parameters\n",
    "fmax = 3000\n",
    "fref = 25\n",
    "\n",
    "# Data Simulation Parameters\n",
    "T_obs = 1# (1/365.25/24) # observation time (in yrs)\n",
    "duration = T_obs*60*60*24*365.25 # duration of each segment of data (in s)\n",
    "N_segs = 1 # number of data segments to generate\n",
    "fs = 2048 # sampling rate (in Hz)\n",
    "num_iterations = 12 # number of iterations to average Omega(f) over"
   ]
  },
  {
   "cell_type": "code",
   "execution_count": 34,
   "id": "70a62678-dff4-42c2-b8d5-650cfef95931",
   "metadata": {},
   "outputs": [
    {
     "name": "stderr",
     "output_type": "stream",
     "text": [
      "14:51 bilby INFO    : Using aligned spin prior\n",
      "14:51 bilby INFO    : No prior given, using default BBH priors in /Users/patrickmeyers/opt/anaconda3/envs/gw_general/lib/python3.9/site-packages/bilby/gw/prior_files/aligned_spins_bbh.prior.\n"
     ]
    }
   ],
   "source": [
    "# Standard Prior Dictionary\n",
    "priors = bilby.gw.prior.BBHPriorDict(aligned_spin=True)\n",
    "priors['mass_1'] = bilby.core.prior.PowerLaw(alpha=-2.3, minimum=BBH_min, maximum=BBH_max)\n",
    "priors['mass_ratio'] = bilby.core.prior.PowerLaw(alpha=1.5, minimum=0, maximum=1)\n",
    "priors['theta_jn'] = bilby.core.prior.Uniform(minimum=0, maximum=2*np.pi, name='theta_jn')\n",
    "priors['chi_1'] = 0\n",
    "priors['chi_2'] = 0\n",
    "priors['redshift'] = redshiftPrior.PowerLawRedshiftPrior(R0=R0, alpha=alpha, beta=beta, zp=zp, minimum=0, maximum=z_max, name='redshift')\n",
    "priors['geocent_time'] = bilby.core.prior.Uniform(minimum=0, maximum=T_obs, name='geocent_time')"
   ]
  },
  {
   "cell_type": "code",
   "execution_count": 35,
   "id": "b148bda2-2d7f-442f-a666-5113c33b79fa",
   "metadata": {},
   "outputs": [
    {
     "name": "stdout",
     "output_type": "stream",
     "text": [
      "71725.44902921855 Mpc3 / sr\n"
     ]
    }
   ],
   "source": [
    "# Calculate number of injections\n",
    "zs, p_dz = priors['redshift']._get_redshift_arrays()\n",
    "N = redshiftPrior.calculate_num_injections(T_obs, zs, p_dz)\n",
    "print(N)"
   ]
  },
  {
   "cell_type": "code",
   "execution_count": 36,
   "id": "c7cb8fa6-8550-46a6-a68d-1db0207428e8",
   "metadata": {},
   "outputs": [
    {
     "name": "stdout",
     "output_type": "stream",
     "text": [
      "Total number of injections: 71843\n"
     ]
    },
    {
     "name": "stderr",
     "output_type": "stream",
     "text": [
      "14:51 bilby INFO    : Waveform generator initiated with\n",
      "  frequency_domain_source_model: bilby.gw.source.lal_binary_black_hole\n",
      "  time_domain_source_model: None\n",
      "  parameter_conversion: bilby.gw.conversion.convert_to_lal_binary_black_hole_parameters\n",
      "2023-11-02 14:51:05.569 | INFO     | compute_omega_mcmc:compute_injected_omega:30 - Compute the total injected Omega for 71843 injections\n",
      "100%|█████████████████████████████████████████████████████████████████████████████████████████████████████████████████████████████████████████████████| 71843/71843 [00:53<00:00, 1343.54it/s]\n",
      "2023-11-02 14:51:59.043 | DEBUG    | compute_omega_mcmc:compute_injected_omega:56 - Compute Omega_ref at f_ref=25 Hz\n",
      "2023-11-02 14:51:59.044 | DEBUG    | compute_omega_mcmc:compute_injected_omega:61 - True f_ref=25.0\n",
      "2023-11-02 14:51:59.044 | INFO     | compute_omega_mcmc:compute_injected_omega:64 - Omega_ref=4.57e-09\n",
      "14:51 bilby INFO    : Waveform generator initiated with\n",
      "  frequency_domain_source_model: bilby.gw.source.lal_binary_black_hole\n",
      "  time_domain_source_model: None\n",
      "  parameter_conversion: bilby.gw.conversion.convert_to_lal_binary_black_hole_parameters\n",
      "2023-11-02 14:51:59.045 | INFO     | compute_omega_mcmc:compute_injected_omega:30 - Compute the total injected Omega for 71843 injections\n",
      "100%|██████████████████████████████████████████████████████████████████████████████████████████████████████████████████████████████████████████████████| 71843/71843 [01:42<00:00, 699.00it/s]\n",
      "2023-11-02 14:53:41.826 | DEBUG    | compute_omega_mcmc:compute_injected_omega:56 - Compute Omega_ref at f_ref=25 Hz\n",
      "2023-11-02 14:53:41.826 | DEBUG    | compute_omega_mcmc:compute_injected_omega:61 - True f_ref=25.0\n",
      "2023-11-02 14:53:41.826 | INFO     | compute_omega_mcmc:compute_injected_omega:64 - Omega_ref=4.57e-09\n",
      "14:53 bilby INFO    : Waveform generator initiated with\n",
      "  frequency_domain_source_model: bilby.gw.source.lal_binary_black_hole\n",
      "  time_domain_source_model: None\n",
      "  parameter_conversion: bilby.gw.conversion.convert_to_lal_binary_black_hole_parameters\n",
      "2023-11-02 14:53:41.827 | INFO     | compute_omega_mcmc:compute_injected_omega:30 - Compute the total injected Omega for 71843 injections\n",
      "100%|█████████████████████████████████████████████████████████████████████████████████████████████████████████████████████████████████████████████████| 71843/71843 [00:40<00:00, 1785.44it/s]\n",
      "2023-11-02 14:54:22.067 | DEBUG    | compute_omega_mcmc:compute_injected_omega:56 - Compute Omega_ref at f_ref=25 Hz\n",
      "2023-11-02 14:54:22.067 | DEBUG    | compute_omega_mcmc:compute_injected_omega:61 - True f_ref=25.0\n",
      "2023-11-02 14:54:22.068 | INFO     | compute_omega_mcmc:compute_injected_omega:64 - Omega_ref=5.24e-09\n",
      "No artists with labels found to put in legend.  Note that artists whose label start with an underscore are ignored when legend() is called with no argument.\n",
      "No artists with labels found to put in legend.  Note that artists whose label start with an underscore are ignored when legend() is called with no argument.\n"
     ]
    },
    {
     "data": {
      "text/plain": [
       "<matplotlib.legend.Legend at 0x7f96c5549490>"
      ]
     },
     "execution_count": 36,
     "metadata": {},
     "output_type": "execute_result"
    },
    {
     "data": {
      "image/png": "[encoded data removed]",
      "text/plain": [
       "<Figure size 648x432 with 1 Axes>"
      ]
     },
     "metadata": {
      "needs_background": "light"
     },
     "output_type": "display_data"
    }
   ],
   "source": [
    "# Regimbau Method\n",
    "N_inj = np.random.poisson(N.value)\n",
    "injections = priors.sample(N_inj)\n",
    "injections[\"signal_type\"] = 'CBC'\n",
    "print('Total number of injections: ' + str(N_inj))\n",
    "\n",
    "import json\n",
    "with open(\"test_CBC_injection_dict.json\", \"w\") as outfile:\n",
    "    json.dump(injections, outfile, indent=2, cls=bilby.core.result.BilbyJsonEncoder)\n",
    "\n",
    "freqs_d, omega_gw_d = compute_injected_omega(injections, T_obs,\n",
    "                                         return_spectrum=True,\n",
    "                                         sampling_frequency=4096,\n",
    "                                         duration=2)\n",
    "\n",
    "freqs_pv2, omega_gw_pv2 = compute_injected_omega(injections, T_obs,\n",
    "                                         return_spectrum=True,\n",
    "                                         sampling_frequency=4096,\n",
    "                                         duration=2,\n",
    "                                         approximant='IMRPhenomPv2')\n",
    "\n",
    "freqs_tf2, omega_gw_tf2 = compute_injected_omega(injections, T_obs,\n",
    "                                         return_spectrum=True,\n",
    "                                         sampling_frequency=4096,\n",
    "                                         duration=2,\n",
    "                                         approximant='TaylorF2')\n",
    "    \n",
    "# Plot spectrum\n",
    "plt.figure(figsize=(9, 6))\n",
    "ax = plt.gca()\n",
    "ax.loglog(freqs_d, omega_gw_d, color='#d61c1c')\n",
    "ax.loglog(freqs_pv2, omega_gw_pv2, color='green')\n",
    "ax.loglog(freqs_tf2, omega_gw_tf2, color='green')\n",
    "# ax.loglog(total_freqs_AR, Omega_ref_AR*(total_freqs_AR/fref)**(2/3), label='2/3 Power Law', color='#000000')\n",
    "\n",
    "ax.set_xlim(10, 1000)\n",
    "ax.set_title(r'GW Energy Density Spectrum (Regimbau Method)')\n",
    "ax.set_xlabel(r'Frequency (Hz)', fontsize=16)\n",
    "ax.set_ylabel(r'$\\Omega_{GW}(f)$', fontsize=16)\n",
    "ax.legend(fontsize=16)\n",
    "plt.ylim(1e-9, 1e-7)\n",
    "ax.tick_params(axis='both', labelsize=16)\n",
    "ax.legend()\n",
    "\n",
    "# print('Omega_ref at 25 Hz: ' + format(Omega_ref_AR, '.2e'))"
   ]
  }
 ],
 "metadata": {
  "kernelspec": {
   "display_name": "Python [conda env:gw_general] *",
   "language": "python",
   "name": "conda-env-gw_general-py"
  },
  "language_info": {
   "codemirror_mode": {
    "name": "ipython",
    "version": 3
   },
   "file_extension": ".py",
   "mimetype": "text/x-python",
   "name": "python",
   "nbconvert_exporter": "python",
   "pygments_lexer": "ipython3",
   "version": "3.9.7"
  }
 },
 "nbformat": 4,
 "nbformat_minor": 5
}
