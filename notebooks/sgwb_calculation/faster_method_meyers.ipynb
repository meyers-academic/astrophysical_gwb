{
 "cells": [
  {
   "cell_type": "code",
   "execution_count": 1,
   "id": "19b6bae1-e57f-4415-b6c1-5fc30de98085",
   "metadata": {},
   "outputs": [],
   "source": [
    "# Imports\n",
    "%load_ext autoreload\n",
    "%autoreload 2\n",
    "\n",
    "import math\n",
    "import matplotlib \n",
    "import matplotlib.pyplot as plt\n",
    "import numpy as np\n",
    "import os\n",
    "import scipy\n",
    "from scipy.integrate import trapz\n",
    "from scipy.integrate import cumtrapz\n",
    "from scipy.special import erfinv\n",
    "from tqdm import tqdm\n",
    "import sys\n",
    "\n",
    "from astropy.coordinates import Distance\n",
    "import bilby\n",
    "from gwBackground import *\n",
    "from pygwb.detector import Interferometer\n",
    "from pygwb.network import Network\n",
    "from pygwb.parameters import Parameters\n",
    "from pygwb.baseline import Baseline\n",
    "\n",
    "from constants import *\n",
    "import equations\n",
    "# import redshiftPrior\n",
    "\n",
    "# Add module\n",
    "\n",
    "sys.path.append('../../modules')\n",
    "from compute_omega_mcmc import (sample_dict_compute_injected_omega, calculate_num_injections,\n",
    "                                PowerLawRedshiftPrior, BrokenPowerLawRedshiftPrior,\n",
    "                               calculate_omega_gridded)"
   ]
  },
  {
   "cell_type": "code",
   "execution_count": 243,
   "id": "b3eb5593-e3e2-449c-b3c9-5e34a7677b88",
   "metadata": {},
   "outputs": [],
   "source": [
    "# Constants\n",
    "# Mass Parameters\n",
    "BBH_min = 5 # minimum BBH mass\n",
    "BBH_max = 100 # maximum BBH mass\n",
    "\n",
    "# Frequency Parameters\n",
    "fmax = 3000\n",
    "fref = 25\n",
    "\n",
    "# Data Simulation Parameters\n",
    "T_obs = 1# (1/365.25/24) # observation time (in yrs)\n",
    "duration = T_obs*60*60*24*365.25 # duration of each segment of data (in s)\n",
    "N_segs = 1 # number of data segments to generate\n",
    "fs = 2048 # sampling rate (in Hz)\n",
    "num_iterations = 12 # number of iterations to average Omega(f) over"
   ]
  },
  {
   "cell_type": "code",
   "execution_count": 244,
   "id": "d5905a05-e98a-4a57-bd36-bbe74bf04635",
   "metadata": {
    "tags": []
   },
   "outputs": [
    {
     "name": "stderr",
     "output_type": "stream",
     "text": [
      "19:56 bilby INFO    : Using aligned spin prior\n",
      "19:56 bilby INFO    : No prior given, using default BBH priors in /Users/patrickmeyers/opt/anaconda3/envs/gw_general/lib/python3.9/site-packages/bilby/gw/prior_files/aligned_spins_bbh.prior.\n"
     ]
    }
   ],
   "source": [
    "# Regimbau Method\n",
    "# Standard Prior Dictionary\n",
    "priors = bilby.gw.prior.BBHPriorDict(aligned_spin=True)\n",
    "del priors['luminosity_distance']\n",
    "del priors['chirp_mass']\n",
    "priors['mass_1'] = bilby.core.prior.Uniform(minimum=BBH_min, maximum=BBH_max)\n",
    "priors['mass_ratio'] = bilby.core.prior.PowerLaw(alpha=1.5, minimum=0, maximum=1)\n",
    "priors['theta_jn'] = bilby.core.prior.Uniform(minimum=0, maximum=2*np.pi, name='theta_jn')\n",
    "priors['chi_1'] = 0# bilby.core.prior.Uniform(minimum=0, maximum=1, name='chi_1')\n",
    "priors['chi_2'] = 0# bilby.core.prior.Uniform(minimum=0, maximum=1, name='chi_2')\n",
    "priors['redshift'] = BrokenPowerLawRedshiftPrior(R0=R0, alpha=alpha, beta=beta, zp=zp, minimum=0, maximum=z_max, name='redshift')\n",
    "priors['geocent_time'] = bilby.core.prior.Uniform(minimum=0, maximum=T_obs, name='geocent_time')\n",
    "freqs_tc, omega_tc = calculate_omega_gridded(priors)"
   ]
  },
  {
   "cell_type": "code",
   "execution_count": 245,
   "id": "0f167462-0f24-4249-980b-8c82b4a723a0",
   "metadata": {
    "tags": []
   },
   "outputs": [
    {
     "name": "stderr",
     "output_type": "stream",
     "text": [
      "2023-11-03 19:57:57.613 | INFO     | compute_omega_mcmc:draw_injections:116 - We are averaging over 71725.44902921855 1 / yr waveforms for 1 years\n",
      "19:57 bilby INFO    : Waveform generator initiated with\n",
      "  frequency_domain_source_model: bilby.gw.source.lal_binary_black_hole\n",
      "  time_domain_source_model: None\n",
      "  parameter_conversion: bilby.gw.conversion.convert_to_lal_binary_black_hole_parameters\n",
      "2023-11-03 19:57:59.716 | INFO     | compute_omega_mcmc:sample_dict_compute_injected_omega:151 - Compute the total injected Omega for 71543 injections\n",
      "100%|█████████████████████████████████████████████████████████████████████████████████████████████████████████████████████████████████████████████████| 71543/71543 [00:35<00:00, 1999.72it/s]\n"
     ]
    }
   ],
   "source": [
    "# 100 weeks\n",
    "omegas_m1_original = []\n",
    "for ii in range(1):\n",
    "    freqs_d, omega_gw_d, injections = sample_dict_compute_injected_omega(priors, T_obs,\n",
    "                                         sampling_frequency=2048,\n",
    "                                         duration=2, approximant='IMRPhenomD')\n",
    "    omegas_m1_original.append(omega_gw_d)"
   ]
  },
  {
   "cell_type": "code",
   "execution_count": 247,
   "id": "765f3496-69f3-4a66-ba91-bc938fe8488d",
   "metadata": {},
   "outputs": [
    {
     "data": {
      "image/png": "[encoded data removed]",
      "text/plain": [
       "<Figure size 432x288 with 1 Axes>"
      ]
     },
     "metadata": {
      "needs_background": "light"
     },
     "output_type": "display_data"
    }
   ],
   "source": [
    "plt.loglog(freqs_d, 2 * np.array(omegas_m1_original).squeeze())\n",
    "plt.loglog(freqs_tc, omega_tc * 1e9)\n",
    "plt.xlim(1, 1000)\n",
    "plt.show()"
   ]
  },
  {
   "cell_type": "code",
   "execution_count": 239,
   "id": "c86f088a-02db-47ff-8220-e6e54eebb3df",
   "metadata": {},
   "outputs": [
    {
     "data": {
      "text/plain": [
       "(0.0, 1.0)"
      ]
     },
     "execution_count": 239,
     "metadata": {},
     "output_type": "execute_result"
    },
    {
     "data": {
      "image/png": "[encoded data removed]",
      "text/plain": [
       "<Figure size 432x288 with 1 Axes>"
      ]
     },
     "metadata": {
      "needs_background": "light"
     },
     "output_type": "display_data"
    }
   ],
   "source": [
    "plt.plot(np.interp(freqs_tc, freqs_d,  np.array(omegas_m1_original).squeeze()) / (omega_tc * 1e9))\n",
    "plt.ylim(0, 1)"
   ]
  },
  {
   "cell_type": "markdown",
   "id": "86700440-df68-4c38-b8c6-df1e36193541",
   "metadata": {},
   "source": [
    "# Compare dE/df methods"
   ]
  },
  {
   "cell_type": "code",
   "execution_count": 170,
   "id": "5661ffd5-acf1-4a95-8623-62f732c505a6",
   "metadata": {},
   "outputs": [
    {
     "name": "stderr",
     "output_type": "stream",
     "text": [
      "19:00 bilby INFO    : Waveform generator initiated with\n",
      "  frequency_domain_source_model: bilby.gw.source.lal_binary_black_hole\n",
      "  time_domain_source_model: None\n",
      "  parameter_conversion: bilby.gw.conversion.convert_to_lal_binary_black_hole_parameters\n"
     ]
    }
   ],
   "source": [
    "waveform_generator = bilby.gw.WaveformGenerator(\n",
    "    duration=2,\n",
    "    sampling_frequency=2048,\n",
    "    frequency_domain_source_model=bilby.gw.source.lal_binary_black_hole,\n",
    "    parameter_conversion=bilby.gw.conversion.convert_to_lal_binary_black_hole_parameters,\n",
    "    waveform_arguments={\n",
    "        \"waveform_approximant\": \"TaylorF2\",\n",
    "        \"reference_frequency\": 50,\n",
    "        \"minimum_frequency\": 1\n",
    "    }\n",
    ")  # breaks down at M_tot * (1+z) ~ 1000, according to Xiao-Xiao and Haowen\n",
    "\n",
    "# convert to seconds, set up frequency array for waveform\n",
    "priors['mass_ratio'] = 1\n",
    "freqs_psd = waveform_generator.frequency_array"
   ]
  },
  {
   "cell_type": "code",
   "execution_count": null,
   "id": "b9e51e4b-1b8e-4a48-b4c9-73bd9e55ddc7",
   "metadata": {},
   "outputs": [],
   "source": []
  },
  {
   "cell_type": "code",
   "execution_count": 182,
   "id": "d57a3e87-e4d4-4cd8-86ff-df95f8c2ff62",
   "metadata": {},
   "outputs": [
    {
     "name": "stdout",
     "output_type": "stream",
     "text": [
      "{'mass_1': array([11.]), 'mass_ratio': array([1.]), 'chirp_mass': array([9.5760562]), 'luminosity_distance': array([1893.70380656]), 'dec': array([0.02572667]), 'ra': array([4.49167746]), 'theta_jn': array([0.]), 'psi': array([0.13830667]), 'phase': array([1.20613999]), 'chi_1': array([0.]), 'chi_2': array([0.]), 'redshift': array([2.]), 'geocent_time': array([0.1])}\n"
     ]
    }
   ],
   "source": [
    "print(test_injs)"
   ]
  },
  {
   "cell_type": "code",
   "execution_count": 195,
   "id": "00d1260b-9509-457a-85e0-64b7fb3065f5",
   "metadata": {},
   "outputs": [
    {
     "name": "stderr",
     "output_type": "stream",
     "text": [
      "19:13 bilby INFO    : Using aligned spin prior\n",
      "19:13 bilby INFO    : No prior given, using default BBH priors in /Users/patrickmeyers/opt/anaconda3/envs/gw_general/lib/python3.9/site-packages/bilby/gw/prior_files/aligned_spins_bbh.prior.\n",
      "/Users/patrickmeyers/Documents/Documents - Patrick’s MacBook Pro/Projects/SURF2023/repositories/astrophysical_gwb/notebooks/sgwb_calculation/gwBackground.py:83: RuntimeWarning: divide by zero encountered in power\n",
      "  dEdf_spectrum[inspiral] = np.power(freqs[inspiral],-1./3.)*np.power(1.+alpha.dot(vs[:,inspiral]),2.)\n",
      "/Users/patrickmeyers/opt/anaconda3/envs/gw_general/lib/python3.9/site-packages/gwpy/plot/axes.py:78: UserWarning: Attempted to set non-positive left xlim on a log-scaled axis.\n",
      "Invalid limit will be ignored.\n",
      "  return func(self, **kw)\n"
     ]
    },
    {
     "name": "stdout",
     "output_type": "stream",
     "text": [
      "[0.00000000e+00 0.00000000e+00 1.35172221e+45 1.18083812e+45\n",
      " 1.07286263e+45 9.95957440e+44 9.37231835e+44 8.90289877e+44\n",
      " 8.51531634e+44 8.18747422e+44]\n",
      "[           inf 2.00402175e+45 1.58616086e+45 1.38239572e+45\n",
      " 1.25336249e+45 1.16127924e+45 1.09083700e+45 1.03443476e+45\n",
      " 9.87791557e+44 9.48278110e+44]\n"
     ]
    },
    {
     "data": {
      "image/png": "[encoded data removed]",
      "text/plain": [
       "<Figure size 432x288 with 1 Axes>"
      ]
     },
     "metadata": {
      "needs_background": "light"
     },
     "output_type": "display_data"
    },
    {
     "name": "stderr",
     "output_type": "stream",
     "text": [
      "/var/folders/pw/q58shg_d4vz37qn56ds0zjm40000gn/T/ipykernel_5333/3176137203.py:51: RuntimeWarning: divide by zero encountered in true_divide\n",
      "  plt.plot((direct_psd[shift_idxs:idx_max + shift_idxs] / waveform_psd[:idx_max])**-1)\n"
     ]
    },
    {
     "data": {
      "image/png": "[encoded data removed]",
      "text/plain": [
       "<Figure size 432x288 with 1 Axes>"
      ]
     },
     "metadata": {
      "needs_background": "light"
     },
     "output_type": "display_data"
    }
   ],
   "source": [
    "pc = 3e16 # meters\n",
    "\n",
    "priors = bilby.gw.prior.BBHPriorDict(aligned_spin=True)\n",
    "m1 = 11\n",
    "priors['mass_1'] = m1\n",
    "priors['mass_ratio'] = 1\n",
    "priors['chirp_mass'] = (m1 * m1)**(3/5) / (m1 + m1)**(1/5)\n",
    "priors['theta_jn'] = 0\n",
    "priors['chi_1'] = 0# bilby.core.prior.Uniform(minimum=0, maximum=1, name='chi_1')\n",
    "priors['chi_2'] = 0# bilby.core.prior.Uniform(minimum=0, maximum=1, name='chi_2')\n",
    "priors['redshift'] = 2\n",
    "priors['geocent_time'] = 0.1\n",
    "\n",
    "test_injs = priors.sample(1)\n",
    "\n",
    "\n",
    "\n",
    "\n",
    "# luminosity_distance = equations.redshift_to_dl(test_injs['redshift'])\n",
    "luminosity_distance = test_injs['luminosity_distance'] * pc * 1e6\n",
    "polarizations = waveform_generator.frequency_domain_strain(test_injs)\n",
    "\n",
    "m1 = test_injs['mass_1']\n",
    "m2 = test_injs['mass_1'] * test_injs['mass_ratio']\n",
    "Mtot = m1 + m2\n",
    "eta = m1 * m2 / Mtot**2\n",
    "\n",
    "waveform_psd =  (2 * np.pi**2 * c**3 / G / (4 * np.pi)) * (1 + test_injs['redshift'])**2 * luminosity_distance**2 * freqs_psd**2 * \\\n",
    "    np.abs(polarizations['plus']) ** 2 + np.abs(polarizations['cross']) ** 2\n",
    "\n",
    "direct_psd = dEdf(Mtot[0], freqs_psd, eta=eta[0])\n",
    "\n",
    "print(waveform_psd[:10])\n",
    "print(direct_psd[:10])\n",
    "\n",
    "\n",
    "Mc = np.power(eta,3./5.)*Mtot*Msun\n",
    "amp = np.power(G*np.pi,2./3.)*np.power(Mc,5./3.)/3.\n",
    "\n",
    "idx_max = np.argmin(np.abs(freqs_psd - 100))\n",
    "\n",
    "df = freqs_psd[1] - freqs_psd[0]\n",
    "\n",
    "shift_idxs = int(np.round((1 + test_injs['redshift']) * df))\n",
    "\n",
    "plt.loglog(freqs_psd[:idx_max] * (1 + test_injs['redshift']), direct_psd[:idx_max])\n",
    "plt.loglog(freqs_psd[:idx_max], waveform_psd[:idx_max])\n",
    "plt.xlim(0, 200)\n",
    "plt.show()\n",
    "\n",
    "plt.plot((direct_psd[shift_idxs:idx_max + shift_idxs] / waveform_psd[:idx_max])**-1)\n",
    "plt.show()"
   ]
  },
  {
   "cell_type": "code",
   "execution_count": null,
   "id": "13de9e7b-ee64-452b-873d-3ed3318d6040",
   "metadata": {},
   "outputs": [],
   "source": []
  }
 ],
 "metadata": {
  "kernelspec": {
   "display_name": "Python [conda env:gw_general] *",
   "language": "python",
   "name": "conda-env-gw_general-py"
  },
  "language_info": {
   "codemirror_mode": {
    "name": "ipython",
    "version": 3
   },
   "file_extension": ".py",
   "mimetype": "text/x-python",
   "name": "python",
   "nbconvert_exporter": "python",
   "pygments_lexer": "ipython3",
   "version": "3.9.7"
  }
 },
 "nbformat": 4,
 "nbformat_minor": 5
}
